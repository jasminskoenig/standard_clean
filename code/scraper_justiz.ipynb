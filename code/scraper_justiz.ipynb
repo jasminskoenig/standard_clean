{
 "cells": [
  {
   "cell_type": "code",
   "execution_count": 62,
   "id": "a1fb9e32",
   "metadata": {},
   "outputs": [],
   "source": [
    "import itertools\n",
    "\n",
    "#list of links\n",
    "\n",
    "urls = [\"https://www.derstandard.at/search?query=justiz&n=inland&fd=2000-01-01&td=2009-12-31&s=date&p=\", \n",
    "        \"https://www.derstandard.at/search?query=justiz&n=inland&fd=2010-01-01&td=2016-12-31&s=date&p=\", \n",
    "        \"https://www.derstandard.at/search?query=justiz&n=inland&fd=2017-01-01&td=2022-12-31&s=date&p=\", \n",
    "        \"https://www.derstandard.at/search?query=vfgh&n=inland&fd=2000-01-01&td=2009-12-31&s=date&p=\", \n",
    "        \"https://www.derstandard.at/search?query=vfgh&n=inland&fd=2010-01-01&td=2022-12-31&s=date&p=\"]\n",
    "\n",
    "# need to combine urls_p and pagenumber\n",
    "urls_complete = []\n",
    "\n",
    "for url in urls:\n",
    "    urls_complete.append([url+ str(i) for i in range(1,18+1)])\n",
    "\n",
    "# unnest\n",
    "urls_complete = list(itertools.chain(*urls_complete))"
   ]
  },
  {
   "cell_type": "code",
   "execution_count": 63,
   "id": "0f405a1e",
   "metadata": {},
   "outputs": [
    {
     "data": {
      "text/plain": [
       "90"
      ]
     },
     "execution_count": 63,
     "metadata": {},
     "output_type": "execute_result"
    }
   ],
   "source": [
    "len(urls_complete)"
   ]
  },
  {
   "cell_type": "code",
   "execution_count": 64,
   "id": "f820036a",
   "metadata": {},
   "outputs": [],
   "source": [
    "from IPython.core.interactiveshell import InteractiveShell\n",
    "InteractiveShell.ast_node_interactivity = 'all'"
   ]
  },
  {
   "cell_type": "code",
   "execution_count": 80,
   "id": "55e5d67a",
   "metadata": {},
   "outputs": [],
   "source": [
    "#set driver\n",
    "from selenium import webdriver\n",
    "from selenium.webdriver.chrome.service import Service\n",
    "from webdriver_manager.chrome import ChromeDriverManager\n",
    "\n",
    "driver = webdriver.Chrome(service=Service(ChromeDriverManager().install()))"
   ]
  },
  {
   "cell_type": "code",
   "execution_count": 81,
   "id": "369fe625",
   "metadata": {},
   "outputs": [
    {
     "data": {
      "text/plain": [
       "True"
      ]
     },
     "execution_count": 81,
     "metadata": {},
     "output_type": "execute_result"
    }
   ],
   "source": [
    "from selenium.webdriver.common.by import By\n",
    "from selenium.webdriver.support.ui import WebDriverWait \n",
    "from selenium.webdriver.support import expected_conditions as EC\n",
    "\n",
    "#open standard homepage\n",
    "driver.get(\"https://www.derstandard.at\")\n",
    "\n",
    "#accept cookies\n",
    "WebDriverWait(driver, 10).until(EC.frame_to_be_available_and_switch_to_it((By.CSS_SELECTOR,\"iframe[title='SP Consent Message']\")))\n",
    "WebDriverWait(driver, 10).until(EC.element_to_be_clickable((By.XPATH,\"//button[@title='Einverstanden']\"))).click()\n",
    "\n",
    "#deny push notifications\n",
    "driver.switch_to.default_content()\n",
    "WebDriverWait(driver, 20).until(EC.element_to_be_clickable((By.XPATH, \"//button[text()='Nein, danke']\"))).click()"
   ]
  },
  {
   "cell_type": "code",
   "execution_count": 68,
   "id": "30b002cc",
   "metadata": {},
   "outputs": [
    {
     "data": {
      "text/plain": [
       "8153"
      ]
     },
     "execution_count": 68,
     "metadata": {},
     "output_type": "execute_result"
    }
   ],
   "source": [
    "# works well, but i wonder whether this could be done faster with swifter or multiprocess\n",
    "from selenium.webdriver.common.by import By\n",
    "from selenium.common.exceptions import NoSuchElementException\n",
    "\n",
    "links = []\n",
    "for url in urls_complete:\n",
    "    driver.get(url)\n",
    "    \n",
    "    # link\n",
    "    try:\n",
    "        a = driver.find_elements(By.XPATH, \"//div[@class='teaser-inner']//child::a\") \n",
    "        # getting all links per page\n",
    "        links.append([lnk.get_attribute(\"href\") for lnk in a])\n",
    "    except NoSuchElementException:\n",
    "        a = \"NA\"\n",
    "\n",
    "links = list(itertools.chain(*links))\n",
    "\n",
    "len(links)"
   ]
  },
  {
   "cell_type": "code",
   "execution_count": 69,
   "id": "ab2848d5",
   "metadata": {},
   "outputs": [],
   "source": [
    "import pyarrow.feather as feather\n",
    "import pandas as pd\n",
    "\n",
    "df_links = pd.DataFrame(links)\n",
    "\n",
    "feather.write_feather(df_links, 'links.feather')"
   ]
  },
  {
   "cell_type": "code",
   "execution_count": 70,
   "id": "bac2875b",
   "metadata": {},
   "outputs": [
    {
     "data": {
      "text/html": [
       "<div>\n",
       "<style scoped>\n",
       "    .dataframe tbody tr th:only-of-type {\n",
       "        vertical-align: middle;\n",
       "    }\n",
       "\n",
       "    .dataframe tbody tr th {\n",
       "        vertical-align: top;\n",
       "    }\n",
       "\n",
       "    .dataframe thead th {\n",
       "        text-align: right;\n",
       "    }\n",
       "</style>\n",
       "<table border=\"1\" class=\"dataframe\">\n",
       "  <thead>\n",
       "    <tr style=\"text-align: right;\">\n",
       "      <th></th>\n",
       "      <th>links</th>\n",
       "    </tr>\n",
       "  </thead>\n",
       "  <tbody>\n",
       "    <tr>\n",
       "      <th>0</th>\n",
       "      <td>https://www.derstandard.at/story/1259282847861...</td>\n",
       "    </tr>\n",
       "    <tr>\n",
       "      <th>1</th>\n",
       "      <td>https://www.derstandard.at/story/1259282500288...</td>\n",
       "    </tr>\n",
       "    <tr>\n",
       "      <th>2</th>\n",
       "      <td>https://www.derstandard.at/story/1259282555505...</td>\n",
       "    </tr>\n",
       "    <tr>\n",
       "      <th>3</th>\n",
       "      <td>https://www.derstandard.at/story/1259282550923...</td>\n",
       "    </tr>\n",
       "    <tr>\n",
       "      <th>4</th>\n",
       "      <td>https://www.derstandard.at/story/1259282453470...</td>\n",
       "    </tr>\n",
       "    <tr>\n",
       "      <th>...</th>\n",
       "      <td>...</td>\n",
       "    </tr>\n",
       "    <tr>\n",
       "      <th>8148</th>\n",
       "      <td>https://www.derstandard.at/story/1262209548290...</td>\n",
       "    </tr>\n",
       "    <tr>\n",
       "      <th>8149</th>\n",
       "      <td>https://www.derstandard.at/story/1262209312051...</td>\n",
       "    </tr>\n",
       "    <tr>\n",
       "      <th>8150</th>\n",
       "      <td>https://www.derstandard.at/story/1262209253669...</td>\n",
       "    </tr>\n",
       "    <tr>\n",
       "      <th>8151</th>\n",
       "      <td>https://www.derstandard.at/story/1262209033945...</td>\n",
       "    </tr>\n",
       "    <tr>\n",
       "      <th>8152</th>\n",
       "      <td>https://www.derstandard.at/story/1262209012337...</td>\n",
       "    </tr>\n",
       "  </tbody>\n",
       "</table>\n",
       "<p>8153 rows × 1 columns</p>\n",
       "</div>"
      ],
      "text/plain": [
       "                                                  links\n",
       "0     https://www.derstandard.at/story/1259282847861...\n",
       "1     https://www.derstandard.at/story/1259282500288...\n",
       "2     https://www.derstandard.at/story/1259282555505...\n",
       "3     https://www.derstandard.at/story/1259282550923...\n",
       "4     https://www.derstandard.at/story/1259282453470...\n",
       "...                                                 ...\n",
       "8148  https://www.derstandard.at/story/1262209548290...\n",
       "8149  https://www.derstandard.at/story/1262209312051...\n",
       "8150  https://www.derstandard.at/story/1262209253669...\n",
       "8151  https://www.derstandard.at/story/1262209033945...\n",
       "8152  https://www.derstandard.at/story/1262209012337...\n",
       "\n",
       "[8153 rows x 1 columns]"
      ]
     },
     "execution_count": 70,
     "metadata": {},
     "output_type": "execute_result"
    }
   ],
   "source": [
    "import pyarrow.feather as feather\n",
    "import pandas as pd\n",
    "import random\n",
    "from selenium.webdriver.common.by import By\n",
    "\n",
    "df = pd.read_feather('links.feather')\n",
    "df.rename(columns={0: \"links\"})\n",
    "\n",
    "links = df[0].values.tolist()"
   ]
  },
  {
   "cell_type": "code",
   "execution_count": 72,
   "id": "48922cba-2454-4832-a0eb-2e1a9af5aedb",
   "metadata": {},
   "outputs": [
    {
     "data": {
      "text/plain": [
       "8109"
      ]
     },
     "execution_count": 72,
     "metadata": {},
     "output_type": "execute_result"
    },
    {
     "name": "stdout",
     "output_type": "stream",
     "text": [
      "['https://www.derstandard.at/jetzt/livebericht/2000025211222/oesterreich-im-menschenrechts-check', 'https://www.derstandard.at/jetzt/livebericht/2000006940276/betrugsprozess-gegen-peter-westenthaler', 'https://www.derstandard.at/jetzt/livebericht/2000003276135/prozess-gegen-anti-akademikerball-demonstranten-josef-s-wird-fortgesetzt', 'https://www.derstandard.at/jetzt/livebericht/1378248923947/finale-im-telekom-prozess-karin-gastinger-sagt-aus', 'https://www.derstandard.at/jetzt/livebericht/1373512925778/telekom-prozess-lobbyist-peter-hochegger-vor-gericht', 'https://www.derstandard.at/jetzt/livebericht/1334797225602/nachlese-livebericht-grasser-sieht-sich-durch-angaben-seines-ex-kabinettschefs-nicht-belastet', 'https://www.derstandard.at/jetzt/livebericht/1302745546121/nachlese-live-bericht-spindeleggers-umbau-fertig', 'https://www.derstandard.at/jetzt/livebericht/1293371146324/menschenrechtspruefung-spindelegger-menschenrechts-training-fuer-polizei-ausreichend', 'https://www.derstandard.at/jetzt/livebericht/1293370900096/livebericht-nachlese-prozess-gegen-vortragende-bei-fpoe-seminaren-vertagt', 'https://www.derstandard.at/jetzt/livebericht/2000140163362/live-das-statement-von-bundespraesident-van-der-bellen-zur-aktuellen', 'https://www.derstandard.at/jetzt/livebericht/2000140101074/kurz-verteidigt-sich-gegen-schmid-vorwuerfe-nehammer-fordert-volle-aufklaerung', 'https://www.derstandard.at/jetzt/livebericht/2000137062237/strafprozess-gegen-johann-fuchs-chef-der-oberstaatsanwaltschaft-wien-beginnt', 'https://www.derstandard.at/jetzt/livebericht/2000130861986/prozess-gegen-christian-pilnacek-vom-sektionschef-zum-angeklagten', 'https://www.derstandard.at/jetzt/livebericht/2000130357105/bundeskanzler-schallenberg-gibt-in-parlament-regierungserklaerung-ab-platter-rueckt-von', 'https://www.derstandard.at/jetzt/livebericht/2000127951341/mitdiskutieren-das-puls-24-sommergespraech-mit-sebastian-kurz', 'https://www.derstandard.at/jetzt/livebericht/2000125700927/sondersitzung-des-nationalrats-ab-12-uhr-zu-affaere-um-oebag', 'https://www.derstandard.at/jetzt/livebericht/2000125360427/volksanwalt-walter-rosenkranz-ab-14-uhr-im-chat-zu-corona', 'https://www.derstandard.at/jetzt/livebericht/2000125320882/volksanwalt-bernhard-achitz-im-chat-zur-corona-impfung-und-alten', 'https://www.derstandard.at/jetzt/livebericht/2000124750709/volksanwalt-werner-amon-im-chat-zu-corona-hilfen-stellen-sie', 'https://www.derstandard.at/jetzt/livebericht/2000124208092/gruene-verkuenden-entscheidung-ueber-misstrauensantrag-gegen-bluemel', 'https://www.derstandard.at/jetzt/livebericht/2000121453643/zadic-will-nach-anschlag-in-wien-gefaehrder-engmaschiger-kontrollieren-untersuchungskommission', 'https://www.derstandard.at/jetzt/livebericht/2000121420318/terror-ticker-fuer-mittwochvier-todesopfer-bei-terroranschlag-in-wien-bekennerschreiben', 'https://www.derstandard.at/jetzt/livebericht/2000108662400/neuauflage-prozess-bierwirtgegen-sigi-maurer', 'https://www.derstandard.at/jetzt/livebericht/2000104087510/van-der-bellen-gibt-erklaerung-zur-kanzlerfrage-ab', 'https://www.derstandard.at/jetzt/livebericht/2000099895339/eurofighter-u-ausschuss-loechert-sichrovsy-und-mensdorff-pouilly', 'https://www.derstandard.at/jetzt/livebericht/2000095712113/u-ausschuss-befragt-in-causa-bvt-korruptionsjaeger-und-juristin', 'https://www.derstandard.at/jetzt/livebericht/2000094094144/eurofighter-u-ausschuss-loechert-karl-heinz-grasser', 'https://www.derstandard.at/jetzt/livebericht/2000090944112/live-ab-830-uhrkurz-und-kunasek-nehmen-zu-spionagefall-stellung', 'https://www.derstandard.at/jetzt/livebericht/2000090774819/bvt-chef-gridling-und-sein-vize-erscheinen-vor-dem-u', 'https://www.derstandard.at/jetzt/livebericht/2000088919468/prozess-gegen-sigi-maurer-geht-weiter', 'https://www.derstandard.at/jetzt/livebericht/2000088539519/bvt-u-ausschuss-am-mittwoch-mit-justiz-generalsekretaer-pilnacek', 'https://www.derstandard.at/jetzt/livebericht/2000088445261/bvt-u-ausschuss-befragt-vertreter-der-justiz', 'https://www.derstandard.at/jetzt/livebericht/2000086624640/identitaet-nach-sexistischer-nachricht-enthuellt-prozess-gegen-sigi-maurer-startet', 'https://www.derstandard.at/jetzt/livebericht/2000076406453/bvt-affaere-innenminister-muss-sich-dem-nationalrat-stellen', 'https://www.derstandard.at/jetzt/livebericht/2000070473071/liveticker-kurz-und-strache-lassen-sich-absegnen', 'https://www.derstandard.at/jetzt/livebericht/2000128268535/nationalrat-debattiert-aktenlieferung-von-finanzminister-bluemel', 'https://www.derstandard.at/jetzt/livebericht/2000126442458/bundespraesident-gibt-statement-zur-exekutions-forderung-des-vfgh-ab', 'https://www.derstandard.at/jetzt/livebericht/2000087525856/tag-drei-im-bvt-untersuchungsausschuss', 'https://www.derstandard.at/jetzt/livebericht/2000076669519/pressekonferenz-der-spoe-zum-vorerst-verhinderten-bvt-u-ausschuss', 'https://www.derstandard.at/jetzt/livebericht/2000040238127/verfassungsrechtler-funk-im-chat-zur-wahlaufhebung', 'https://www.derstandard.at/jetzt/livebericht/2000040171600/praesidentschaftswahl-hoechstgericht-gibt-entscheidung-bekannt', 'https://www.derstandard.at/jetzt/livebericht/2000040041820/wahlanfechtung-vfgh-verhandlung-wird-fortgesetzt', 'https://www.derstandard.at/jetzt/livebericht/2000039428775/live-ticker-zur-wahlanfechtung-beisitzer-die-fix-und-foxi-waren', 'https://www.derstandard.at/jetzt/livebericht/2000038455729/behoerdenleiter-stein-vorwuerfe-bei-praesidentenwahl-werden-minutioes-geprueft']\n"
     ]
    }
   ],
   "source": [
    "live = r'jetzt/livebericht'\n",
    "links_short = links\n",
    "livebericht = []\n",
    "\n",
    "for elem in links_short:\n",
    "        if live in elem:\n",
    "            livebericht.append(elem)\n",
    "        if live in elem:\n",
    "            links_short.remove(elem)\n",
    "            \n",
    "len(links_short)\n",
    "print(livebericht)"
   ]
  },
  {
   "cell_type": "code",
   "execution_count": null,
   "id": "9751d46e",
   "metadata": {},
   "outputs": [],
   "source": [
    "# DO NOT RUN ONLY DO SAVE CODE\n",
    "# now working with soup get html of all pages\n",
    "import requests\n",
    "import random\n",
    "from bs4 import BeautifulSoup\n",
    "\n",
    "headers = {\"User-Agent\": \"Mozilla/5.0 (Windows NT 10.0; Win64; x64) AppleWebKit/537.36 (KHTML, like Gecko) Chrome/106.0.0.0 Safari/537.36\"}\n",
    "\n",
    "linkstest = random.sample(links, 50)\n",
    "soups = []\n",
    "for link in linkstest:\n",
    "    page = requests.get(link, headers = headers)\n",
    "    soups.append(BeautifulSoup(page.content, \"html.parser\"))"
   ]
  },
  {
   "cell_type": "code",
   "execution_count": null,
   "id": "5ef6c5a9",
   "metadata": {},
   "outputs": [],
   "source": [
    "# DO NOT RUN ONLY DO SAVE CODE\n",
    "len(soups)\n",
    "len(linkstest)"
   ]
  },
  {
   "cell_type": "code",
   "execution_count": null,
   "id": "4cf6bbd4",
   "metadata": {},
   "outputs": [],
   "source": [
    "# DO NOT RUN ONLY DO SAVE CODE\n",
    "# trying this with soup\n",
    "from datetime import datetime\n",
    "import pandas as pd\n",
    "import numpy as np\n",
    "\n",
    "start_time = datetime.now()\n",
    "\n",
    "article = []\n",
    "article2 = []\n",
    "title = []\n",
    "author = []\n",
    "commentno = []\n",
    "time = []\n",
    "\n",
    "for soup in soups:\n",
    "    article1 = soup.find('div', class_=\"article-body\").findAll('p')\n",
    "    #article.append(article1.text if article1 else \"N/A\")\n",
    "    #article3 = article1.find('p')\n",
    "    #article2.append(article3.text if article3 else \"N/A\")\n",
    "\n",
    "    \n",
    "    title1 = soup.find('h1', class_=\"article-title\")\n",
    "    title.append(title1.text if title1 else \"N/A\")\n",
    "    \n",
    "    author1 = soup.find('div', class_=\"article-origins\")\n",
    "    author.append(author1.text if author1 else \"N/A\")\n",
    "    \n",
    "    print(article1)\n",
    "        \n",
    "#df_articles=pd.DataFrame({'article': article,\n",
    " #                         'article2': article2,\n",
    "  #                        'title': title,\n",
    "   #                       'author': author})\n",
    "    \n",
    "\n",
    "end_time = datetime.now()\n",
    "print('Duration: {}'.format(end_time - start_time))"
   ]
  },
  {
   "cell_type": "code",
   "execution_count": 87,
   "id": "476facac",
   "metadata": {},
   "outputs": [
    {
     "data": {
      "text/html": [
       "<div>\n",
       "<style scoped>\n",
       "    .dataframe tbody tr th:only-of-type {\n",
       "        vertical-align: middle;\n",
       "    }\n",
       "\n",
       "    .dataframe tbody tr th {\n",
       "        vertical-align: top;\n",
       "    }\n",
       "\n",
       "    .dataframe thead th {\n",
       "        text-align: right;\n",
       "    }\n",
       "</style>\n",
       "<table border=\"1\" class=\"dataframe\">\n",
       "  <thead>\n",
       "    <tr style=\"text-align: right;\">\n",
       "      <th></th>\n",
       "      <th>article</th>\n",
       "      <th>title</th>\n",
       "      <th>commentno</th>\n",
       "      <th>time</th>\n",
       "      <th>links</th>\n",
       "    </tr>\n",
       "  </thead>\n",
       "  <tbody>\n",
       "    <tr>\n",
       "      <th>0</th>\n",
       "      <td>Georg Bürstmayr ist Rechtsanwalt in Wien. Arbe...</td>\n",
       "      <td>&lt;b&gt;Einserfrage:&lt;/b&gt; Ist das neue Asylgesetz di...</td>\n",
       "      <td>, \\n14 Postings</td>\n",
       "      <td>3. Mai 2005, 18:42</td>\n",
       "      <td>https://www.derstandard.at/story/2035089/einse...</td>\n",
       "    </tr>\n",
       "    <tr>\n",
       "      <th>1</th>\n",
       "      <td>Wien - Der Unabhängige Bundesasylsenat (UBAS) ...</td>\n",
       "      <td>Bundesasylsenat bei Verfassungsgericht abgeblitzt</td>\n",
       "      <td>, \\n2 Postings</td>\n",
       "      <td>3. Mai 2005, 13:27</td>\n",
       "      <td>https://www.derstandard.at/story/2022457/bunde...</td>\n",
       "    </tr>\n",
       "    <tr>\n",
       "      <th>2</th>\n",
       "      <td>Wien - Der Verfassungsjurist Dieter Kolonovits...</td>\n",
       "      <td>Auch Verfassungsrechtler gegen Haider-Vorschlag</td>\n",
       "      <td>, \\n6 Postings</td>\n",
       "      <td>3. Mai 2005, 13:06</td>\n",
       "      <td>https://www.derstandard.at/story/2035151/auch-...</td>\n",
       "    </tr>\n",
       "    <tr>\n",
       "      <th>3</th>\n",
       "      <td>Tainach - Bundespräsident Heinz Fischer hat am...</td>\n",
       "      <td>Fischer appelliert an \"guten Willen\"</td>\n",
       "      <td>, \\n12 Postings</td>\n",
       "      <td>3. Mai 2005, 10:05</td>\n",
       "      <td>https://www.derstandard.at/story/2034807/fisch...</td>\n",
       "    </tr>\n",
       "    <tr>\n",
       "      <th>4</th>\n",
       "      <td>Wien - Eine Reihe von Verfassungswidrigkeiten ...</td>\n",
       "      <td>\"Mehr Haft, mehr Härte, weniger Rechte\"</td>\n",
       "      <td>, \\n25 Postings</td>\n",
       "      <td>3. Mai 2005, 08:42</td>\n",
       "      <td>https://www.derstandard.at/story/1979505/mehr-...</td>\n",
       "    </tr>\n",
       "  </tbody>\n",
       "</table>\n",
       "</div>"
      ],
      "text/plain": [
       "                                             article  \\\n",
       "0  Georg Bürstmayr ist Rechtsanwalt in Wien. Arbe...   \n",
       "1  Wien - Der Unabhängige Bundesasylsenat (UBAS) ...   \n",
       "2  Wien - Der Verfassungsjurist Dieter Kolonovits...   \n",
       "3  Tainach - Bundespräsident Heinz Fischer hat am...   \n",
       "4  Wien - Eine Reihe von Verfassungswidrigkeiten ...   \n",
       "\n",
       "                                               title        commentno  \\\n",
       "0  <b>Einserfrage:</b> Ist das neue Asylgesetz di...  , \\n14 Postings   \n",
       "1  Bundesasylsenat bei Verfassungsgericht abgeblitzt   , \\n2 Postings   \n",
       "2    Auch Verfassungsrechtler gegen Haider-Vorschlag   , \\n6 Postings   \n",
       "3               Fischer appelliert an \"guten Willen\"  , \\n12 Postings   \n",
       "4            \"Mehr Haft, mehr Härte, weniger Rechte\"  , \\n25 Postings   \n",
       "\n",
       "                 time                                              links  \n",
       "0  3. Mai 2005, 18:42  https://www.derstandard.at/story/2035089/einse...  \n",
       "1  3. Mai 2005, 13:27  https://www.derstandard.at/story/2022457/bunde...  \n",
       "2  3. Mai 2005, 13:06  https://www.derstandard.at/story/2035151/auch-...  \n",
       "3  3. Mai 2005, 10:05  https://www.derstandard.at/story/2034807/fisch...  \n",
       "4  3. Mai 2005, 08:42  https://www.derstandard.at/story/1979505/mehr-...  "
      ]
     },
     "execution_count": 87,
     "metadata": {},
     "output_type": "execute_result"
    },
    {
     "name": "stdout",
     "output_type": "stream",
     "text": [
      "Duration: 0:42:35.115536\n"
     ]
    }
   ],
   "source": [
    "# the rest with selenium\n",
    "from selenium.common.exceptions import NoSuchElementException\n",
    "from datetime import datetime\n",
    "import pandas as pd\n",
    "import numpy as np\n",
    "\n",
    "links1 = links_short[6001:-1]\n",
    "\n",
    "df = pd.DataFrame(links1, columns = ['links'])\n",
    "\n",
    "start_time = datetime.now()\n",
    "\n",
    "def get_additions(row):        \n",
    "    driver.get(row['links'])\n",
    "    \n",
    "    try:\n",
    "        commentno = driver.find_element(By.CLASS_NAME, \"article-postingcount\").text\n",
    "    except NoSuchElementException:\n",
    "        commentno = \"NA\"\n",
    "    try:\n",
    "        time = driver.find_element(By.XPATH, \"//time\").text\n",
    "    except NoSuchElementException:\n",
    "        time = \"NA\"\n",
    "    try:\n",
    "        articles = driver.find_elements(By.CLASS_NAME, 'article-body')\n",
    "        for value in articles:\n",
    "            article = value.text\n",
    "    except NoSuchElementException:\n",
    "        article = \"NA\"\n",
    "    try:\n",
    "        titles = driver.find_elements(By.CLASS_NAME, 'article-title')\n",
    "        for value in titles:\n",
    "            title = value.text\n",
    "    except NoSuchElementException:\n",
    "        title = \"NA\"\n",
    "\n",
    "    return pd.Series({\n",
    "        'article': article,\n",
    "        'title': title,\n",
    "        'commentno': commentno,\n",
    "        'time': time\n",
    "    })\n",
    "\n",
    "new_df2 = df.apply(get_additions, axis=1).join(df)\n",
    "new_df2.head()\n",
    "\n",
    "end_time = datetime.now()\n",
    "print('Duration: {}'.format(end_time - start_time))"
   ]
  },
  {
   "cell_type": "code",
   "execution_count": 74,
   "id": "8422cd6b-80d0-40a3-b694-c82fdb562a08",
   "metadata": {},
   "outputs": [],
   "source": [
    "feather.write_feather(new_df1, 'justiz1.feather')"
   ]
  },
  {
   "cell_type": "code",
   "execution_count": 88,
   "id": "4d7418f8-9475-46d8-baae-7a94276d6d39",
   "metadata": {},
   "outputs": [],
   "source": [
    "feather.write_feather(new_df2, 'justiz4.feather')"
   ]
  },
  {
   "cell_type": "code",
   "execution_count": 21,
   "id": "14b35e52",
   "metadata": {},
   "outputs": [
    {
     "data": {
      "text/html": [
       "<table border=\"1\" class=\"dataframe\">\n",
       "  <thead>\n",
       "    <tr style=\"text-align: right;\">\n",
       "      <th>article</th>\n",
       "      <th>title</th>\n",
       "      <th>commentno</th>\n",
       "      <th>time</th>\n",
       "      <th>links</th>\n",
       "    </tr>\n",
       "  </thead>\n",
       "  <tbody>\n",
       "    <tr>\n",
       "      <td>Wien - Der Verfassungsgerichtshof (VfGH) hat Bedenken gegen die bereits \"reparierte\" neue Altersgrenze von 15 Jahren für den Familiennachzug von Kindern in Österreich lebender Ausländer. Er hat deshalb gegen die von ÖVP und FPÖ (nach einem VfGH-Erkenntnis) um ein Jahr angehobene Grenze ein Prüfverfahren eingeleitet. Die Begründung: Auch die 15-Jahre-Grenze nehme nicht auf das Ende der Schulpflicht und das Kinder-Beschäftigungsverbot Bedacht und verstoße damit gegen den Grundsatz der Gleichbehandlung von Fremden. Es bestünden die gleichen Bedenken wie jene, die zur Aufhebung der Vorgängerbestimmung geführt haben. Im Erkenntnis zur 14-Jahre-Grenze im Juni 2000 hatte der VfGH festgehalten, dass zwischen Eltern und Kindern auch nach Vollendung des 14. Lebensjahres ein Abhängigkeitsverhältnis bestehen könne, die Kinder seien im Regelfall nicht selbsterhaltungsfähig. \"Das dürfe auch für Minderjährige zutreffen, die das 15. Lebensjahr nicht wesentlich überschritten haben, betont der VfGH. Caritas-Präsident Franz Küberl sowie Terezija Stoisits, Migrationssprecherin der Grünen, treten dafür ein, die Einschränkungen bei der Familienzusammenführung von Ausländern überhaupt abzuschaffen. (APA - DER STANDARD, Print, 24.12.2001)</td>\n",
       "      <td>Kindernachzug: Altersgrenze wird geprüft</td>\n",
       "      <td>, \\n2 Postings</td>\n",
       "      <td>23. Dezember 2001, 21:02</td>\n",
       "      <td>https://www.derstandard.at/story/816210/kindernachzug-altersgrenze-wird-geprueft</td>\n",
       "    </tr>\n",
       "    <tr>\n",
       "      <td>Wien - Verfassungsgerichtshof-Vizepräsident Karl Korinek hat am Montag die Aussagen des Kärntner LH Jörg Haider (F), die Verfassungsrichter hätten mit ihrer Ablehnung eines Amtsenthebungsverfahrens gegen Präsidenten Ludwig Adamovich eine \"Flucht aus der Verantwortung\" angetreten ebenso zurückgewiesen wie Haiders Darstellung, seine Beweise seien \"erdrückend\" gewesen. \"Mehr an Transparenz zu den einzelnen Vorwürfen ist nicht mehr möglich\", betonte Korinek. Keine Angaben könne er darüber machen, mit welcher Mehrheit die VfGH-Entscheidung fiel. \"Ich darf nichts dazu sagen, das gehört zur Amtsverschwiegenheit, Mehrheiten bei Entscheidungen im Gerichtshof nicht bekannt zu geben\", so Korinek, unter dessen Vorsitz die nicht-öffentliche Sitzung am Samstag stattfand.\\nAuf Haiders Aussage, seine Beweise seien \"erdrückend\" gewesen, nannte Korinek nur ein Beispiel: \"Dem Vorwurf, Adamovich habe als Bediensteter des Bundeskanzleramtes am Volksgruppengesetz mitgearbeitet, stehen gegenüber die von Adamovich vorgelegten Dokumente, wonach er zur damaligen Zeit überhaupt nicht im Bundeskanzleramt tätig war, sondern als Professor an der Universität Graz\".\\nIn dem Beschluss werde auf jeden einzelnen Vorwurf Haiders eingegangen, ebenso habe sich Generalprokurator Friedrich Hauptmann in seiner Stellungnahme - der sich der VfGH anschließt - ausführlich mit jedem einzlenen Beweis Haiders auseinander gesetzt. \"Das kann jeder überprüfen\", sei doch der Beschluss im Internet veröffentlicht worden.\\nKnappe Mehrheit laut Jarolim \"unwahr\"\\nDie Aussage des Kärntner LH Jörg Haider (F), der Beschluss des Verfassungsgerichtshofes in Sachen Amtsenthebungsverfahren sei nur mit knapper Mehrheit gefallen, sei \"offenkundig unwahr\", erklärte SPÖ-Justizsprecher Hannes Jarolim am Montag. \"Jeder, der einigermaßen mit juristischer Sprache befasst ist\", könne erkennen, dass der Beschluss einstimmig gefasst worden sei, meinte er im Pressedienst der SPÖ.\\nDie Passage \"Der Gerichtshof schließt sich der Beurteilung des Generalprokurators vorbehaltslos an\", bringe ein einstimmiges Stimmverhalten klar zum Ausdruck, sagte Jarolim. Zum Beschluss, vor allem auch den Ausführungen des Generalprokurators, meinte er: \"In krasserer Form ist von amtlicher Seite Haider wohl noch selten die Verbreitung von Unwahrheiten nachgewiesen worden.\" (APA)\\nLINKVfGH</td>\n",
       "      <td>VfGH-Vizepräsident weist Haider-Anwürfe zurück</td>\n",
       "      <td>, \\n13 Postings</td>\n",
       "      <td>7. Jänner 2002, 17:15</td>\n",
       "      <td>https://www.derstandard.at/story/825482/vfgh-vizepraesident-weist-haider-anwuerfe-zurueck</td>\n",
       "    </tr>\n",
       "    <tr>\n",
       "      <td>Klagenfurt / Wien – Eine deutsche Versicherungsgruppe ist mit einer Zivilklage gegen das Land Kärnten betreffend nachrangige Heta-Anleihen abgeblitzt. Die Klägerin war der Ansicht, dass das Land für ihre nachrangigen Anleihen zur Gänze haften müsse und hatte das Rückkaufangebot nicht angenommen. Das Urteil von Richterin Gudrun Slamanig besagt nun, dass die Haftung nur bis zur Höhe der Ausgleichszahlung besteht.\\nZur Erinnerung: 30 Prozent sofort oder 45 Prozent über Wertpapiere, so lautete das Angebot des Landes für die Nachranggläubiger der Heta. 893 Millionen Euro an nachrangigen Anleihen betrug das Gesamtvolumen der Landeshaftungen, 89,42 Prozent der Nachranggläubiger akzeptierten das Angebot.\\nDie deutsche Versicherungsgruppe, der Name wird vom Gericht nicht bekanntgegeben, wollte sich mit dem Angebot nicht zufriedengeben und zog mit einer Feststellungsklage vor Gericht. Der Erfolg blieb aus, die Klägerin gibt aber noch nicht auf. \"Gegen das erstinstanzliche Urteil wurde Berufung eingebracht\", sagte Eva Jost-Draxl, Sprecherin des Landesgerichts Klagenfurt, am Mittwoch.\\nOffene Anträge\\nZugleich habe es einen Antrag auf Normprüfung beim Verfassungsgerichtshof (VfGH) gegeben, und zwar bezüglich Paragraf 2 des Finanzmarkt-Stabilitätsgesetzes, so Jost-Draxl. Auf Basis dieses Gesetzes war die Höhe des Rückkaufangebotes errechnet worden.\\nDie Causa liegt nun beim VfGH, die Berufung beim Oberlandesgericht Graz. Dieses wird den Fall allerdings vorerst nicht behandeln, sondern abwarten, was die Verfassungsrichter befinden. Dort bestätigte man auf APA-Anfrage das Einlangen des Antrages, wann dieser von den Höchstrichtern behandelt wird, steht aber noch nicht fest. (APA, 8.11.2017)</td>\n",
       "      <td>Heta-Anleihen: Deutscher Versicherer blitzt mit Zivilklage ab</td>\n",
       "      <td>NA</td>\n",
       "      <td>8. November 2017, 15:11</td>\n",
       "      <td>https://www.derstandard.at/story/2000067436609/heta-anleihen-deutscher-versicherer-blitzte-mit-zivilklage-ab</td>\n",
       "    </tr>\n",
       "    <tr>\n",
       "      <td>BILD NICHT MEHR VERFÜGBAR.\\nAb 1. April gilt die Vorratsdatenspeicherung, die die sechsmonatige Speicherung diverser Daten vorschreibt - unter anderem wer mit wem wann telefoniert hat.\\nFoto: HANS KLAUS TECHT / APA\\nNetzpolitisch gab es bislang wohl wenige EU-Richtlinien, die in einer solchen Vielzahl von Ländern so konsequenten und massiven Widerspruch erfahren haben wie die Vorratsdatenspeicherung. All diesen Bemühungen - und dem Umstand, dass die Regelung in einigen EU-Mitgliedsstaaten bereits durch den jeweiligen Verfassungsgerichtshof gekippt wurde - zum Trotz soll die Richtlinie am kommenden Sonntag, dem 1. April, auch in Österreich zum Gesetz werden.\\nKlage\\nDas bedeutet für die GegnerInnen dieser Regelung freilich noch nicht, dass sie ihre Aktivitäten einstellen, ganz im Gegenteil: Im Rahmen einer gemeinsamen Pressekonferenz haben am Freitag der Arbeitskreis Vorratsdatenspeicherung (AKVorrat) und der grüne Justizsprecher Albert Steinhauser eine Verfassungsklage gegen die Vorratsdatenspeicherung angekündigt, um das neue Gesetz nachträglich wieder zu kippen. Die verdachtsunabhängige Speicherung sämtlicher Kommunikationsdaten aller Menschen in Österreich stelle einen schweren Grundrechtseingriff dar, heißt es argumentativ auf der neu eingerichteten Website verfassungsklage.at.\\nUnterstützung\\nUm die Klage auf eine möglichst breite Basis zu stellen, sucht man noch nach MitstreiterInnen. So ruft man GegnerInnen der Vorratsdatenspeicherung dazu auf, sich an der Klage zu beteiligen. Wer will, kann sich über die Plattform die nötigen Dokumente herunterladen, um eine Unterstützungserklärung zu unterzeichnen und sich so an der Aktion zu beteiligen. Voraussetzung für die Teilnahme ist, einen Telefon- oder Internetanschluss in Österreich zu besitzen. Die InitiatorInnen betonen dabei, dass den UnterzeichnerInnen durch diesen Schritt keinerlei Kosten oder Risiken entstehen.\\nFrist\\nAls Fristende für das Abgeben einer entsprechenden Vollmacht hat man den 18. Mai gesetzt, bis dahin hoffen die InitiatorInnen, zumindest 1.000 MitstreiterInnen zu finden. Auf diese Weise will man nicht zuletzt auch ein deutliches Zeichen setzen, immerhin wäre dies dann die größte Verfassungsklage der Zweiten Republik. Im Rahmen der Pressekonferenz zeigte sich Steinhauser davon überzeugt, dass das auch gelingen werde, immerhin seien es \"viele, die sich den ausufernden Überwachungsstaat nicht mehr gefallen lassen\".\\nAls ErstunterzeichnerInnen führt die Webpage unter anderen Christof Tschohl, Jurist und Mitarbeiter am Ludwig-Boltzmann-Institut für Menschenrechte, die Ex-ÖH-Vorsitzende Sigrid Maurer und Maria Wittmann-Tiwald, Co-Vorsitzende der Fachgruppe Grundrechte in der Vereinigung der österreichischen Richterinnen und Richter, an. (apo, derStandard.at, 30.3.2012)\\nLink\\nverfassungsklage.at</td>\n",
       "      <td>Verfassungsklage gegen Vorratsdatenspeicherung</td>\n",
       "      <td>, \\n338 Postings</td>\n",
       "      <td>30. März 2012, 11:34</td>\n",
       "      <td>https://www.derstandard.at/story/1332324216221/protest-verfassungsklage-gegen-vorratsdatenspeicherung</td>\n",
       "    </tr>\n",
       "    <tr>\n",
       "      <td>Wien - Vielleicht, wenn man ihnen gesagt hätte, das ist das Gebiet, das Peter Rosegger als seine \"Waldheimat\" beschrieben hat, hätten die Richterinnen und Richter am Verfassungsgerichtshof (VfGH) das \"Joglland\" in der Steiermark geografisch genau zuordnen können. Da das oststeirische \"Joglland\" und seine Gemeinden, aber auch der eine oder andere von einer Fusion betroffene Ort nicht jedem sofort ein Begriff ist, haben die Höchstrichter bei ihren Beratungen über 16 Fälle von Gemeindezusammenlegungen eine große Landkarte zu Hilfe genommen, erzählte VfGH-Präsident Gerhart Holzinger am Dienstag.\\nKein Berg dazwischen\\nDas Ergebnis war nach Konsultation von Karten und Verfassung eindeutig: Die in dieser Verhandlungsrunde behandelten Anträge gegen die von der Landesregierung beschlossenen Gemeindefusionen wurden alle abgewiesen. Sie sind also rechtmäßig: \"Die einzelne Gemeinde hat kein verfassungsgesetzlich gewährleistetes Recht auf ungestörte Existenz\", sagte Holzinger. Laut Verfassung sei der Landesgesetzgeber - derzeit die rot-schwarze Koalition - zuständig, das Land in Gemeinden zu gliedern, wie viele und in welchen Grenzen, obliege ihm.\\nGegen die Ziele der steiermärkischen Gemeindestrukturreform \"bestehen keine Bedenken\". Die VfGH-Richter haben für jeden Ort bestimmte Sachlichkeitskriterien durchdekliniert, um zu einer Entscheidung zu kommen. \"Unsachlich\" wäre demnach eine Fusion \"nur dann, wenn sie etwa aufgrund ganz besonderer Umstände vorhersehbar völlig untauglich\" ist, um das Ziel einer Verbesserung der Gemeindestruktur zu erreichen. Das wäre etwa der Fall, wenn zwei 20 Kilometer entfernte Gemeinden ohne gute Straßenverbindung durch einen \"unüberwindbar hohen Berg getrennt\" seien, schilderte Holzinger. Ansonsten aber werde es \"in der Regel sachlich gerechtfertigt sein, Kleingemeinden mit unter 1000 Einwohnern zusammenzulegen\", um so zum Beispiel die kommunale Infrastruktur (z. B. Schulen) effizienter zu nutzen. Dass jede Fusion auch Nachteile haben könne, sei \"an sich jedoch nicht unsachlich\".\\nDas Ergebnis der nun abgearbeiteten Fälle gebe laut Holzinger eine \"gewisse Orientierung, wie wir die Sache sehen\". Insgesamt haben sich 42 betroffene Gemeinden an den VfGH gewandt. Die restlichen 26 sollen, versprach der VfGH-Präsident, noch rechtzeitig bis Jahresende geprüft werden, da die Zusammenlegungen mit 1. Jänner 2015 in Kraft treten sollen.\\n\"Sehr ernüchternd\", sagte der Sprecher der Gemeindeinitiative, Otmar Hiebaum, im Standard-Gespräch zum Urteil. Dieses sei \"natürlich zu akzeptieren, stärkt aber im Grunde die Stimmung in der Bevölkerung, dass ihr Wort ohnehin wenig gilt\". Bürger hätten in Volksbefragungen oft für die Eigenständigkeit ihrer Gemeinde votiert, \"die werden sich jetzt fragen, was ist dem Staat der Bürger wert.\" Man überlege den Gang zum Europäischen Gerichtshof.\\nDie \"Sieger\" des Streits, Landeshauptmann Franz Voves (SPÖ) und Vizelandeschef Hermann Schützenhöfer (ÖVP), wollen den ablehnenden Gemeinden weiterhin die Hand ausstrecken. Voves sprach von einer \"ganz wichtigen Bestätigung\" der Reformpolitik des Landes. Das Höchstgericht habe auch über die steirischen Grenzen hinweg signalisiert und rechtlich klargestellt, dass \"mutige Reformpolitik\" machbar sei. (Lisa Nimmervoll Walter Müller, DER STANDARD, 15.10.2014)\\nWissen:\\nEntschieden wurde bisher über die Anträge folgender Gemeinden:\\nWaldbach, Ganz, Parschlug, Tragöß, Eisbach, Tauplitz, Pichl-Kainisch, Altenmarkt/Fürstenfeld, Etzersdorf-Rollsdorf, Saifen-Boden, St. Marein/Neumarkt, Rohrmoos-Untertal, Pichl-Preunegg, Etmißl, Raaba und Grambach. Zahlreiche weitere Anträge liegen noch vor.</td>\n",
       "      <td>VfGH zu Gemeindefusion: \"Kein Recht auf ungestörte Existenz\"</td>\n",
       "      <td>, \\n313 Postings</td>\n",
       "      <td>14. Oktober 2014, 19:17</td>\n",
       "      <td>https://www.derstandard.at/story/2000006809604/verfassungsgerichtshof-steirische-gemeindefusionen-sind-rechtens</td>\n",
       "    </tr>\n",
       "    <tr>\n",
       "      <td>Wien - Der Eberauer Bürgermeister Walter Strobl oder die beauftragte Baufirma: Laut Innenministerium wird einer dieser beiden - in diesem Fall - juristischen Personen die Frage, ob das Asylwerber-Erstaufnahmezentrum im Südburgenland errichtet werden darf, vor ein Höchstgericht bringen. \"Höchstwahrscheinlich\", wird im Ministerium ergänzt.\\nUnd zwar mit dortiger Unterstützung: \"Darauf sind wir schon vorbereitet, weil wir einen solchen Gerichtsgang im Vorfeld der Entscheidung für Eberau mitgedacht hatten\", sagt Ministeriumssprecher Gregor Schütze.\\nDas Höchstgericht würde sich ohne jede weitere Zwischeninstanz mit Eberau beschäftigen. Konkret mit der von Landeshauptmann Hans Niessl per Weisung erwirkten Aufhebung des Baubescheids durch die Bezirkshauptmannschaft Güssing.\\nDer Verwaltungsgerichtshof (VwGH) hat schon eine Reihe ähnlicher Rechtsstreits unterbreitet bekommen - vor kurzem etwa einen Konflikt um einen in einer roten Überschwemmungszone geplanten Wohnbau. Die Causa Eberau könnte aber auch den Verfassungsgerichtshof beschäftigen: \"Welches Höchstgericht in solchen Fällen angerufen wird, obliegt vielfach der Kreativität der Beschwerdeführer\", sagt VwGH-Pressesprecher Heinz Kail. (Irene Brickner, DER STANDARD Printausgabe, 23.12.2009)\\n</td>\n",
       "      <td>&lt;b&gt;VwGH:&lt;/b&gt; Innenministerium rechnete mit Gang vor Höchstgericht</td>\n",
       "      <td>, \\n3 Postings</td>\n",
       "      <td>22. Dezember 2009, 19:19</td>\n",
       "      <td>https://www.derstandard.at/story/1259282538666/vwgh-innenministerium-rechnete-mit-gang-vor-hoechstgericht</td>\n",
       "    </tr>\n",
       "    <tr>\n",
       "      <td>Klagenfurt - Die Einheitsliste (Enotna Lista, EL) als politische Vertretung der slowenischen Volksgruppe fordert eine konsequente Umsetzung des Erkenntnisses des Verfassungsgerichtshofes (VfGH) betreffend zweisprachige Ortstafeln in Kärnten. \"Auf Grund der rechtsstaatsfeindlichen Diskussionen der vergangenen Wochen sehen sich manche Hitzköpfe offensichtlich ermuntert, die slowenische Volksgruppe bei der Umsetzung ihrer Rechte nunmehr mit Gewaltanwendung gefügig zu machen\", stellte EL-Obmann Andrej Wakounig am Mittwoch fest. Wakounig spielt damit auf den Vandalenakt beim \"Jauntaler Ball\" in Globasnitz an, als elf Autos von unbekannten Tätern beschädigt wurden. \"Die Umsetzung eines VfGH-Erkenntnisses mit Gewaltanwendung unmöglich zu machen, ist in einem Rechtsstaat ein Skandal\", sagte Wakounig weiters. Sollte daher nicht eine kosnequente Umsetzung erfolgen, \"wird Österreich zu einer Bananenrepublik, in welcher mit Gewalt die Vollziehung von Gesetzen verhindert wird\".\\nWakounig fordert alle Verantwortlichen im Lande und insbesondere Landeshauptmann Jörg Haider (F) auf, die \"Situation nicht weiter anzuheizen, sondern konstruktiv an der Umsetzung des VfGH-Erkenntnisses mitzuwirken\". Wird die derzeitige Kampagne gegen Verfassungsgerichtshof und slowenische Minderheit weiter fortgesetzt, würden sich die Verantwortlichen im Lande \"mitschuldig an Vorkommnissen wie am Wochenende in Globasnitz machen\". (APA)</td>\n",
       "      <td>Einheitsliste fordert Umsetzung des VfGH-Erkenntnisses</td>\n",
       "      <td>NA</td>\n",
       "      <td>16. Jänner 2002, 10:39</td>\n",
       "      <td>https://www.derstandard.at/story/834456/einheitsliste-fordert-umsetzung-des-vfgh-erkenntnisses</td>\n",
       "    </tr>\n",
       "    <tr>\n",
       "      <td>Wien - Die Grünen machen ihre Drohung wahr. Sie werden in der von ihnen initiierten Sondersitzung des Nationalrates zum Thema \"Bleiberecht\" einen Misstrauensantrag gegen Innenminister Günther Platter einbringen, erklärte Vize-Parteichefin Eva Glawischnig in einem Interview mit der \"Tiroler Tageszeitung\" und den \"Vorarlberger Nachrichten\". Platter zeigt sich in der \"Kronen Zeitung\" weiterhin unnachgiebig.\\nDer Innenminister bietet der untergetauchten Arigona Zogaj zwar ein persönliches Gespräch an. Er sagt aber wie bisher nur zu, dass es keine Abschiebung geben wird, so lange der Verfassungsgerichtshof (VfGH) in diesem Fall nicht entschieden hat. Beim VfGH geht es nicht um die Frage der Abschiebung, sondern um den abgewiesenen Antrag auf Erstniederlassungsbewilligung.\\n\"Nicht mehr tragbar\"\\nFür Glawischnig ist der schwarze Innenminister \"nicht mehr tragbar\". Denn er ignoriere bei den Abschiebungen \"ununterbrochen\" den menschenrechtlichen Bezug, nämlich das Recht auf Familienleben. Interessant ist für Glawischnig an der Abstimmung über den Misstrauensantrag auch, \"wie sich die SPÖ verhält\". Auch einen Antrag auf Abschiebestopp für Minderjährige werden die Grünen einbringen - und da soll die SPÖ \"Farbe bekennen\".\\nDie Argumentation des Innenministeriums, die Zogajs seien \"nur\" Wirtschaftsflüchtlinge, weist Glawischnig zurück. Die Situation im Kosovo sei extrem unruhig. Österreich habe bis zum vergangenen Wochenende schon 300 Menschen aus diesem Land Asyl gewährt. (APA)\\nIn eigener SacheBitte melden Sie der Redaktion beleidigende, rassistische oder diskriminierende Postings (beim betreffenden Beitrag auf \"melden\" klicken). Postings, die den Forenregeln widersprechen, werden dann so rasch wie möglich gelöscht. Weitere Infos siehe derStandard.at/Community.Wir danken für Ihre Mithilfe!</td>\n",
       "      <td>Grüne bringen Misstrauensantrag gegen Platter ein</td>\n",
       "      <td>, \\n68 Postings</td>\n",
       "      <td>10. Oktober 2007, 09:49</td>\n",
       "      <td>https://www.derstandard.at/story/3063798/gruene-bringen-misstrauensantrag-gegen-platter-ein</td>\n",
       "    </tr>\n",
       "    <tr>\n",
       "      <td>Linz - Der Wiederbetätigungs-Prozess in Linz gegen zwei Ex-Funktionäre der Nationalen Volkspartei (NVP) ist am Freitag mit den Ausführungen zweier Gutachter des Oberösterreichischen Landesarchivs fortgesetzt worden. Für das Parteiprogramm sei von einem SS-Lehrplan \"seitenweise abgeschrieben\" worden, erklärte der Historiker Gerhart Marckhgott. Der Aufbau des NVP-Papiers entspreche dem Programm der NSDAP aus dem Jahr 1920. Den Angeklagten drohen bis zu zehn Jahre Haft, ein Urteil wurde für den Abend erwartet.\\n\"In den uns vorliegenden Texten der NVP sind mehrere Merkmale enthalten, die in dieser Kombination für nationalsozialistische Ideologie charakteristisch sind\", heißt es in der Expertise, die die Landeswahlbehörde wegen der geplanten Kandidatur bei der oberösterreichischen Landtagswahl 2009 in Auftrag gegeben hatte. Marckhgott verwies darauf, dass in dem beanstandeten Parteiprogramm ein \"Volksstaat aller Deutschen\", eine \"Politik ohne Parteien\" und \"staatliche Wirtschaft statt Marktwirtschaft\" gefördert würden. Es sei gekennzeichnet von einem \"ausgesprochen reaktionären Kulturbegriff und Xenophobie\", so der Gutachter. Die Texte in dieser Kombination bezeichnete er als \"typisch für rechtsextremes Gedankengut\".\\n\"Teilweise wortwörtlich, teilweise sinngemäß\"\\nEs gebe Zusammenhänge zwischen dem SS-Lehrplan und dem NSDAP-Parteiprogramm mit dem NVP-Programm, erklärte auch Marckhgotts Kollege Josef Goldberger. \"Teilweise wortwörtlich, teilweise sinngemäß.\" Der Historiker ist überzeugt, dass die Parallelen auch einem Laien aufgefallen wären. \"Ein politisch interessierter, gebildeter Mensch müsste einzelne Bestandteile erkennen\", sagte Goldberger. Er glaube, dass ein Kontext zum Nationalsozialismus hergestellt werden könne. Hunderte Personen, darunter auch Ermittler, hätten das Parteiprogramm der NVP gelesen, Parallelen seien aber niemandem aufgefallen, entgegnete der 34-jährige Hauptangeklagte. Er selbst kenne die beiden Texte aus der NS-Zeit nicht.\\nDer Beschuldigte und der 29-jährige Mitangeklagte wollten mit der NVP bei der Landtagswahl und bei der Gemeinderatswahl in Enns (Bezirk Linz-Land) antreten. Die Landeswahlbehörde ortete Wiederbetätigung und erklärte die Kandidatur für nicht zulässig. Der Verfassungsgerichtshof wies Beschwerden dagegen ab. Für den Staatsanwalt steht \"somit amtlich fest, dass die seinerzeitige Kandidatur Wiederbetätigung war\". Zu diesem Ergebnis kommt auch ein Gutachten des Linzer Verfassungsrechtlers Andreas Janko. \\nAnleihen bei der Bildsprache des NS-Regimes\\nAuch der Historiker Gerhard Botz, der in dem Verfahren als Sachverständiger bestellt wurde, machte darauf aufmerksam, dass das im NVP-Logo auftauchende Zahnrad im Dritten Reich von der \"Deutschen Arbeitsfront\" als Symbol verwendet wurde. Zudem habe die Nationale Volkspartei Anleihen bei der Bildsprache des NS-Regimes genommen. \"Da gibt's keinen Genierer, in die NSDAP-Kiste zu greifen\", sagte Botz. Für den Nachmittag wurden die Schlussplädoyers erwartet, ein Urteil sollte am Abend fallen.\\nDer Historiker wies darauf hin, dass man das Parteiprogramm der NSDAP im Internet finde. Die beanstandeten Texte seien \"nicht stur übernommen oder abgeschrieben\", sondern redaktionell bearbeitet worden.\\n\"Ich hab mit der nationalsozialistischen Ideologie nichts am Hut\", betonte dagegen ein als Zeuge geladener Ex-NVP-Funktionär, der nach eigenen Angaben das Parteiprogramm verfasst hat und bereits rechtskräftig wegen Wiederbetätigung verurteilt ist. Er räumte zwar ein, für das Papier Passagen eines SS-Lehrplans verwendet zu haben. Die Texte will er aber bereits früher notiert und zum Zeitpunkt der Erstellung des Parteiprogramms nicht mehr daran gedacht haben, woher sie stammten.\\nZur Entstehung des Papiers sagte er aus, er habe sich mit dem Hauptangeklagten getroffen, der ein Konzept für ein Partei hatte. Es sei die Idee entstanden, die NVP zu gründen. In Brainstormings habe man ein Programm erarbeitet. Zusammengefasst sei es aber von ihm worden, so der Zeuge. Wenn er damals noch gewusst hätte, dass Passagen aus einer SS-Schrift stammen, hätte er sie nicht verwendet. Als der nunmehr Beschuldigte davon erfuhr, habe es jedenfalls eine \"Rüge\" gegeben. Von Parallelen zum Parteiprogramm der NSDAP will der Zeuge nichts wissen: \"Das gibt's gar nicht.\" Aktuell sei die NVP damit beschäftigt, ein neues Programm zu erstellen.Hauptangeklagter: \"Wollte mich nie wiederbetätigen\"\\nHauptangeklagter: \"Keine Wiederbetätigung\"\\n\"Ich wollte mich nie wiederbetätigen und habe mich nie wiederbetätigt\", sagte der Hauptangeklagte nach den Schlussplädoyers. \"Mein politischer Blick war stets in die Gegenwart oder Zukunft gerichtet\", so der Mitbeschuldigte. Es liege kein Tatbestand nach dem Verbotsgesetz vor, erklärten die Verteidiger, die Freisprüche forderten. Staatsanwalt Rainer Schopper sah das freilich anders und ortete \"ein bisschen zu viele Zufälle\". Die Urteile wurden für Freitagabend erwartet. (APA)</td>\n",
       "      <td>Von SS-Lehrplan \"seitenweise abgeschrieben\"</td>\n",
       "      <td>, \\n27 Postings</td>\n",
       "      <td>2. März 2012, 19:57</td>\n",
       "      <td>https://www.derstandard.at/story/1330390206525/nvp-prozess-in-linz-von-ss-lehrplan-seitenweise-abgeschrieben</td>\n",
       "    </tr>\n",
       "    <tr>\n",
       "      <td>BILD NICHT MEHR VERFÜGBAR.\\nDas Bundesfinanzgericht liefert dem Verfassungsgerichtshof Im Werbungskostenpauschale für Vertreter ortet er das Muster einer Ungleichbehandlung.\\nFoto: Getty Images\\nWien – Wer sich mit Arbeitnehmerveranlagungen herumschlägt, kennt den Nutzen der Werbungskostenpauschalen, mit denen die Finanz auch nicht nachgewiesene Aufwendungen anerkennt. Sie sind in einigen Berufsgruppen beträchtlich: Vertreter, diverse Künstler, Journalisten, Hausbesorger, Bürgermeister, Gemeinderäte und viele andere zählen zu den Begünstigten, bei denen die Steuerbasis durch das Pauschale um rund 2.000 bis 4.000 Euro reduziert wird, ohne dass tatsächlich Ausgaben anfallen müssen.\\nBei den Vertretern zeigt der Finanzminister besondere Kulanz, und die hat jetzt ein gerichtliches Nachspiel: Das Bundesfinanzgericht sieht darin nämlich eine verfassungswidrige Ungleichbehandlung und hat die Pauschalierung dem Verfassungsgerichtshof vorgelegt. Konkret gibt es bei den Vertretern nicht nur ein Pauschale von fünf Prozent der Bemessungsgrundlage – höchstens 2.190 Euro jährlich -, sondern zudem eine Sonderregelung: Kostenersätze schmälern das Werbungskostenpauschale im Unterschied zu anderen Berufsgruppen nicht. Ein Außendienstmitarbeiter kann die 2.190 Euro also voll geltend machen, selbst wenn er beträchtliche Summen an Kilometergeld oder Diäten vom Dienstgeber ersetzt bekommen hat.\\nFallbeispiel\\nIn einem anhängigen Fall hat die Finanz im Rahmen einer Lohnsteuerprüfung bei einem Vertreter festgestellt, dass sämtliche Aufwendungen im Zusammenhang mit dem Pauschale vom Dienstgeber bezahlt worden seien. Daher wurde das Pauschale nicht anerkannt. In der Berufung des Außendienstmitarbeiters kamen beim Bundesfinanzgericht massive Zweifel an der verfassungsrechtlichen Konformität der Regelung auf. Es sieht eine \"Doppelbegünstigung\", weil Vertreter Vergütungen (beispielsweise Fahrtkosten) steuerfrei erhielten, andererseits das Pauschale steuermindernd anfalle. Mit der Verordnung heble der Finanzminister im Einkommensteuergesetz festgelegte Abzugsverbote aus, womit das Legalitätsprinzip verletzt werde. Zudem ortete das Gericht eine Ungleichbehandlung, weil alle anderen Dienstgeber die Kostenersätze vom Pauschale abziehen müssen. Ein sachlicher Grund dafür sei \"nicht ersichtlich\". (Andreas Schnauder, 19.6.2017)</td>\n",
       "      <td>Werbungskosten: Vertreter müssen um Extrawurst zittern</td>\n",
       "      <td>, \\n69 Postings</td>\n",
       "      <td>19. Juni 2017, 09:00</td>\n",
       "      <td>https://www.derstandard.at/story/2000059426712/werbungskosten-vertreter-muessen-um-extrawurst-zittern</td>\n",
       "    </tr>\n",
       "  </tbody>\n",
       "</table>"
      ],
      "text/plain": [
       "<IPython.core.display.HTML object>"
      ]
     },
     "execution_count": 21,
     "metadata": {},
     "output_type": "execute_result"
    }
   ],
   "source": [
    "from IPython.display import HTML\n",
    "\n",
    "HTML(new_df.to_html(index=False))"
   ]
  },
  {
   "cell_type": "markdown",
   "id": "065ac352",
   "metadata": {},
   "source": [
    "### "
   ]
  }
 ],
 "metadata": {
  "kernelspec": {
   "display_name": "Python 3 (ipykernel)",
   "language": "python",
   "name": "python3"
  },
  "language_info": {
   "codemirror_mode": {
    "name": "ipython",
    "version": 3
   },
   "file_extension": ".py",
   "mimetype": "text/x-python",
   "name": "python",
   "nbconvert_exporter": "python",
   "pygments_lexer": "ipython3",
   "version": "3.9.12"
  }
 },
 "nbformat": 4,
 "nbformat_minor": 5
}
