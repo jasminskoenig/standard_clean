{
 "cells": [
  {
   "cell_type": "code",
   "execution_count": 2,
   "outputs": [
    {
     "data": {
      "text/plain": "       id_paragraph    id                                            article  \\\n0                 2     1  Wien - 1730 Anzeigen behandelt, 16 Fälle zur A...   \n1                 3     1  Trotz der personell angespannten Situation, di...   \n2                 4     1  \"Im Vergleich dazu hat Österreich noch enormen...   \n3                 5     1  Spät, aber doch, kommt auch das neue Antikorru...   \n4                 8     3  Wien - Der Verfassungsgerichtshof ist wieder k...   \n...             ...   ...                                                ...   \n38878         45024  4761  News in der Causa Craftbeer: Ich werde nun tat...   \n38879         34818  3923  Die Liste der Attacken der ÖVP gegen die Justi...   \n38880         13366  1740  Öllinger erklärte dazu, statt sich schützend v...   \n38881         13276  1719  Wien - Eine \"mangelnde Rechtskultur\" ortet der...   \n38882          2349   300  Es gelte natürlich die Unschuldsvermutung, so ...   \n\n                                                   title  \\\n0      Korruptionsjäger für mehr Personal und Kompete...   \n1      Korruptionsjäger für mehr Personal und Kompete...   \n2      Korruptionsjäger für mehr Personal und Kompete...   \n3      Korruptionsjäger für mehr Personal und Kompete...   \n4                 Verfassungsgerichtshof wieder komplett   \n...                                                  ...   \n38878  Bierladenbetreiber klagt Sigi Maurer nach Belä...   \n38879  Vizekanzler Kogler: \"Ein verurteilter Bundeska...   \n38880              Scharfe Kritik der Grünen an Schüssel   \n38881  Präsident des Wiener Landesgerichts ortet \"man...   \n38882                   SP-Rudas fordert Rücktritt Grafs   \n\n                                                   links                date  \\\n0      https://www.derstandard.at/story/1259282847861... 2009-12-29 18:35:00   \n1      https://www.derstandard.at/story/1259282847861... 2009-12-29 18:35:00   \n2      https://www.derstandard.at/story/1259282847861... 2009-12-29 18:35:00   \n3      https://www.derstandard.at/story/1259282847861... 2009-12-29 18:35:00   \n4      https://www.derstandard.at/story/1259282555505... 2009-12-23 10:39:00   \n...                                                  ...                 ...   \n38878  https://www.derstandard.at/story/2000082408236... 2018-06-28 08:51:00   \n38879  https://www.derstandard.at/story/2000127171425... 2021-06-05 12:18:00   \n38880  https://www.derstandard.at/story/410943/scharf... 2000-12-05 16:16:00   \n38881  https://www.derstandard.at/story/419876/praesi... 2000-12-15 09:11:00   \n38882  https://www.derstandard.at/story/1234507060782... 2009-02-13 22:25:00   \n\n       article_id comments code  length_par  \\\n0               1       34  NaN         918   \n1               1       34  NaN         994   \n2               1       34  NaN         722   \n3               1       34  NaN         468   \n4               3        9  NaN         570   \n...           ...      ...  ...         ...   \n38878        4761        4    0         302   \n38879        3923      899  NaN         467   \n38880        1740      NaN  NaN         286   \n38881        1719      NaN  NaN         756   \n38882         300       96  NaN         349   \n\n                                           article_small conflict sortout  \\\n0      wien - 1730 anzeigen behandelt, 16 fälle zur a...      NaN     NaN   \n1      trotz der personell angespannten situation, di...      NaN     NaN   \n2      \"im vergleich dazu hat österreich noch enormen...      NaN     NaN   \n3      spät, aber doch, kommt auch das neue antikorru...      NaN     NaN   \n4      wien - der verfassungsgerichtshof ist wieder k...      NaN     NaN   \n...                                                  ...      ...     ...   \n38878  news in der causa craftbeer: ich werde nun tat...       no           \n38879  die liste der attacken der övp gegen die justi...      yes           \n38880  öllinger erklärte dazu, statt sich schützend v...      yes           \n38881  wien - eine \"mangelnde rechtskultur\" ortet der...      yes           \n38882  es gelte natürlich die unschuldsvermutung, so ...       no           \n\n       coded  \n0        NaN  \n1        NaN  \n2        NaN  \n3        NaN  \n4        NaN  \n...      ...  \n38878    0.0  \n38879    1.0  \n38880    1.0  \n38881    1.0  \n38882    0.0  \n\n[38883 rows x 14 columns]",
      "text/html": "<div>\n<style scoped>\n    .dataframe tbody tr th:only-of-type {\n        vertical-align: middle;\n    }\n\n    .dataframe tbody tr th {\n        vertical-align: top;\n    }\n\n    .dataframe thead th {\n        text-align: right;\n    }\n</style>\n<table border=\"1\" class=\"dataframe\">\n  <thead>\n    <tr style=\"text-align: right;\">\n      <th></th>\n      <th>id_paragraph</th>\n      <th>id</th>\n      <th>article</th>\n      <th>title</th>\n      <th>links</th>\n      <th>date</th>\n      <th>article_id</th>\n      <th>comments</th>\n      <th>code</th>\n      <th>length_par</th>\n      <th>article_small</th>\n      <th>conflict</th>\n      <th>sortout</th>\n      <th>coded</th>\n    </tr>\n  </thead>\n  <tbody>\n    <tr>\n      <th>0</th>\n      <td>2</td>\n      <td>1</td>\n      <td>Wien - 1730 Anzeigen behandelt, 16 Fälle zur A...</td>\n      <td>Korruptionsjäger für mehr Personal und Kompete...</td>\n      <td>https://www.derstandard.at/story/1259282847861...</td>\n      <td>2009-12-29 18:35:00</td>\n      <td>1</td>\n      <td>34</td>\n      <td>NaN</td>\n      <td>918</td>\n      <td>wien - 1730 anzeigen behandelt, 16 fälle zur a...</td>\n      <td>NaN</td>\n      <td>NaN</td>\n      <td>NaN</td>\n    </tr>\n    <tr>\n      <th>1</th>\n      <td>3</td>\n      <td>1</td>\n      <td>Trotz der personell angespannten Situation, di...</td>\n      <td>Korruptionsjäger für mehr Personal und Kompete...</td>\n      <td>https://www.derstandard.at/story/1259282847861...</td>\n      <td>2009-12-29 18:35:00</td>\n      <td>1</td>\n      <td>34</td>\n      <td>NaN</td>\n      <td>994</td>\n      <td>trotz der personell angespannten situation, di...</td>\n      <td>NaN</td>\n      <td>NaN</td>\n      <td>NaN</td>\n    </tr>\n    <tr>\n      <th>2</th>\n      <td>4</td>\n      <td>1</td>\n      <td>\"Im Vergleich dazu hat Österreich noch enormen...</td>\n      <td>Korruptionsjäger für mehr Personal und Kompete...</td>\n      <td>https://www.derstandard.at/story/1259282847861...</td>\n      <td>2009-12-29 18:35:00</td>\n      <td>1</td>\n      <td>34</td>\n      <td>NaN</td>\n      <td>722</td>\n      <td>\"im vergleich dazu hat österreich noch enormen...</td>\n      <td>NaN</td>\n      <td>NaN</td>\n      <td>NaN</td>\n    </tr>\n    <tr>\n      <th>3</th>\n      <td>5</td>\n      <td>1</td>\n      <td>Spät, aber doch, kommt auch das neue Antikorru...</td>\n      <td>Korruptionsjäger für mehr Personal und Kompete...</td>\n      <td>https://www.derstandard.at/story/1259282847861...</td>\n      <td>2009-12-29 18:35:00</td>\n      <td>1</td>\n      <td>34</td>\n      <td>NaN</td>\n      <td>468</td>\n      <td>spät, aber doch, kommt auch das neue antikorru...</td>\n      <td>NaN</td>\n      <td>NaN</td>\n      <td>NaN</td>\n    </tr>\n    <tr>\n      <th>4</th>\n      <td>8</td>\n      <td>3</td>\n      <td>Wien - Der Verfassungsgerichtshof ist wieder k...</td>\n      <td>Verfassungsgerichtshof wieder komplett</td>\n      <td>https://www.derstandard.at/story/1259282555505...</td>\n      <td>2009-12-23 10:39:00</td>\n      <td>3</td>\n      <td>9</td>\n      <td>NaN</td>\n      <td>570</td>\n      <td>wien - der verfassungsgerichtshof ist wieder k...</td>\n      <td>NaN</td>\n      <td>NaN</td>\n      <td>NaN</td>\n    </tr>\n    <tr>\n      <th>...</th>\n      <td>...</td>\n      <td>...</td>\n      <td>...</td>\n      <td>...</td>\n      <td>...</td>\n      <td>...</td>\n      <td>...</td>\n      <td>...</td>\n      <td>...</td>\n      <td>...</td>\n      <td>...</td>\n      <td>...</td>\n      <td>...</td>\n      <td>...</td>\n    </tr>\n    <tr>\n      <th>38878</th>\n      <td>45024</td>\n      <td>4761</td>\n      <td>News in der Causa Craftbeer: Ich werde nun tat...</td>\n      <td>Bierladenbetreiber klagt Sigi Maurer nach Belä...</td>\n      <td>https://www.derstandard.at/story/2000082408236...</td>\n      <td>2018-06-28 08:51:00</td>\n      <td>4761</td>\n      <td>4</td>\n      <td>0</td>\n      <td>302</td>\n      <td>news in der causa craftbeer: ich werde nun tat...</td>\n      <td>no</td>\n      <td></td>\n      <td>0.0</td>\n    </tr>\n    <tr>\n      <th>38879</th>\n      <td>34818</td>\n      <td>3923</td>\n      <td>Die Liste der Attacken der ÖVP gegen die Justi...</td>\n      <td>Vizekanzler Kogler: \"Ein verurteilter Bundeska...</td>\n      <td>https://www.derstandard.at/story/2000127171425...</td>\n      <td>2021-06-05 12:18:00</td>\n      <td>3923</td>\n      <td>899</td>\n      <td>NaN</td>\n      <td>467</td>\n      <td>die liste der attacken der övp gegen die justi...</td>\n      <td>yes</td>\n      <td></td>\n      <td>1.0</td>\n    </tr>\n    <tr>\n      <th>38880</th>\n      <td>13366</td>\n      <td>1740</td>\n      <td>Öllinger erklärte dazu, statt sich schützend v...</td>\n      <td>Scharfe Kritik der Grünen an Schüssel</td>\n      <td>https://www.derstandard.at/story/410943/scharf...</td>\n      <td>2000-12-05 16:16:00</td>\n      <td>1740</td>\n      <td>NaN</td>\n      <td>NaN</td>\n      <td>286</td>\n      <td>öllinger erklärte dazu, statt sich schützend v...</td>\n      <td>yes</td>\n      <td></td>\n      <td>1.0</td>\n    </tr>\n    <tr>\n      <th>38881</th>\n      <td>13276</td>\n      <td>1719</td>\n      <td>Wien - Eine \"mangelnde Rechtskultur\" ortet der...</td>\n      <td>Präsident des Wiener Landesgerichts ortet \"man...</td>\n      <td>https://www.derstandard.at/story/419876/praesi...</td>\n      <td>2000-12-15 09:11:00</td>\n      <td>1719</td>\n      <td>NaN</td>\n      <td>NaN</td>\n      <td>756</td>\n      <td>wien - eine \"mangelnde rechtskultur\" ortet der...</td>\n      <td>yes</td>\n      <td></td>\n      <td>1.0</td>\n    </tr>\n    <tr>\n      <th>38882</th>\n      <td>2349</td>\n      <td>300</td>\n      <td>Es gelte natürlich die Unschuldsvermutung, so ...</td>\n      <td>SP-Rudas fordert Rücktritt Grafs</td>\n      <td>https://www.derstandard.at/story/1234507060782...</td>\n      <td>2009-02-13 22:25:00</td>\n      <td>300</td>\n      <td>96</td>\n      <td>NaN</td>\n      <td>349</td>\n      <td>es gelte natürlich die unschuldsvermutung, so ...</td>\n      <td>no</td>\n      <td></td>\n      <td>0.0</td>\n    </tr>\n  </tbody>\n</table>\n<p>38883 rows × 14 columns</p>\n</div>"
     },
     "execution_count": 1,
     "metadata": {},
     "output_type": "execute_result"
    },
    {
     "data": {
      "text/plain": "       id_paragraph    id                                            article  \\\n0                 2     1  Wien - 1730 Anzeigen behandelt, 16 Fälle zur A...   \n1                 3     1  Trotz der personell angespannten Situation, di...   \n2                 4     1  \"Im Vergleich dazu hat Österreich noch enormen...   \n3                 5     1  Spät, aber doch, kommt auch das neue Antikorru...   \n4                 8     3  Wien - Der Verfassungsgerichtshof ist wieder k...   \n...             ...   ...                                                ...   \n38878         45024  4761  News in der Causa Craftbeer: Ich werde nun tat...   \n38879         34818  3923  Die Liste der Attacken der ÖVP gegen die Justi...   \n38880         13366  1740  Öllinger erklärte dazu, statt sich schützend v...   \n38881         13276  1719  Wien - Eine \"mangelnde Rechtskultur\" ortet der...   \n38882          2349   300  Es gelte natürlich die Unschuldsvermutung, so ...   \n\n                                                   title  \\\n0      Korruptionsjäger für mehr Personal und Kompete...   \n1      Korruptionsjäger für mehr Personal und Kompete...   \n2      Korruptionsjäger für mehr Personal und Kompete...   \n3      Korruptionsjäger für mehr Personal und Kompete...   \n4                 Verfassungsgerichtshof wieder komplett   \n...                                                  ...   \n38878  Bierladenbetreiber klagt Sigi Maurer nach Belä...   \n38879  Vizekanzler Kogler: \"Ein verurteilter Bundeska...   \n38880              Scharfe Kritik der Grünen an Schüssel   \n38881  Präsident des Wiener Landesgerichts ortet \"man...   \n38882                   SP-Rudas fordert Rücktritt Grafs   \n\n                                                   links                date  \\\n0      https://www.derstandard.at/story/1259282847861... 2009-12-29 18:35:00   \n1      https://www.derstandard.at/story/1259282847861... 2009-12-29 18:35:00   \n2      https://www.derstandard.at/story/1259282847861... 2009-12-29 18:35:00   \n3      https://www.derstandard.at/story/1259282847861... 2009-12-29 18:35:00   \n4      https://www.derstandard.at/story/1259282555505... 2009-12-23 10:39:00   \n...                                                  ...                 ...   \n38878  https://www.derstandard.at/story/2000082408236... 2018-06-28 08:51:00   \n38879  https://www.derstandard.at/story/2000127171425... 2021-06-05 12:18:00   \n38880  https://www.derstandard.at/story/410943/scharf... 2000-12-05 16:16:00   \n38881  https://www.derstandard.at/story/419876/praesi... 2000-12-15 09:11:00   \n38882  https://www.derstandard.at/story/1234507060782... 2009-02-13 22:25:00   \n\n       article_id comments code  length_par  \\\n0               1       34  NaN         918   \n1               1       34  NaN         994   \n2               1       34  NaN         722   \n3               1       34  NaN         468   \n4               3        9  NaN         570   \n...           ...      ...  ...         ...   \n38878        4761        4    0         302   \n38879        3923      899  NaN         467   \n38880        1740      NaN  NaN         286   \n38881        1719      NaN  NaN         756   \n38882         300       96  NaN         349   \n\n                                           article_small conflict sortout  \\\n0      wien - 1730 anzeigen behandelt, 16 fälle zur a...      NaN     NaN   \n1      trotz der personell angespannten situation, di...      NaN     NaN   \n2      \"im vergleich dazu hat österreich noch enormen...      NaN     NaN   \n3      spät, aber doch, kommt auch das neue antikorru...      NaN     NaN   \n4      wien - der verfassungsgerichtshof ist wieder k...      NaN     NaN   \n...                                                  ...      ...     ...   \n38878  news in der causa craftbeer: ich werde nun tat...       no           \n38879  die liste der attacken der övp gegen die justi...      yes           \n38880  öllinger erklärte dazu, statt sich schützend v...      yes           \n38881  wien - eine \"mangelnde rechtskultur\" ortet der...      yes           \n38882  es gelte natürlich die unschuldsvermutung, so ...       no           \n\n       coded  \n0        NaN  \n1        NaN  \n2        NaN  \n3        NaN  \n4        NaN  \n...      ...  \n38878    0.0  \n38879    1.0  \n38880    1.0  \n38881    1.0  \n38882    0.0  \n\n[38883 rows x 14 columns]",
      "text/html": "<div>\n<style scoped>\n    .dataframe tbody tr th:only-of-type {\n        vertical-align: middle;\n    }\n\n    .dataframe tbody tr th {\n        vertical-align: top;\n    }\n\n    .dataframe thead th {\n        text-align: right;\n    }\n</style>\n<table border=\"1\" class=\"dataframe\">\n  <thead>\n    <tr style=\"text-align: right;\">\n      <th></th>\n      <th>id_paragraph</th>\n      <th>id</th>\n      <th>article</th>\n      <th>title</th>\n      <th>links</th>\n      <th>date</th>\n      <th>article_id</th>\n      <th>comments</th>\n      <th>code</th>\n      <th>length_par</th>\n      <th>article_small</th>\n      <th>conflict</th>\n      <th>sortout</th>\n      <th>coded</th>\n    </tr>\n  </thead>\n  <tbody>\n    <tr>\n      <th>0</th>\n      <td>2</td>\n      <td>1</td>\n      <td>Wien - 1730 Anzeigen behandelt, 16 Fälle zur A...</td>\n      <td>Korruptionsjäger für mehr Personal und Kompete...</td>\n      <td>https://www.derstandard.at/story/1259282847861...</td>\n      <td>2009-12-29 18:35:00</td>\n      <td>1</td>\n      <td>34</td>\n      <td>NaN</td>\n      <td>918</td>\n      <td>wien - 1730 anzeigen behandelt, 16 fälle zur a...</td>\n      <td>NaN</td>\n      <td>NaN</td>\n      <td>NaN</td>\n    </tr>\n    <tr>\n      <th>1</th>\n      <td>3</td>\n      <td>1</td>\n      <td>Trotz der personell angespannten Situation, di...</td>\n      <td>Korruptionsjäger für mehr Personal und Kompete...</td>\n      <td>https://www.derstandard.at/story/1259282847861...</td>\n      <td>2009-12-29 18:35:00</td>\n      <td>1</td>\n      <td>34</td>\n      <td>NaN</td>\n      <td>994</td>\n      <td>trotz der personell angespannten situation, di...</td>\n      <td>NaN</td>\n      <td>NaN</td>\n      <td>NaN</td>\n    </tr>\n    <tr>\n      <th>2</th>\n      <td>4</td>\n      <td>1</td>\n      <td>\"Im Vergleich dazu hat Österreich noch enormen...</td>\n      <td>Korruptionsjäger für mehr Personal und Kompete...</td>\n      <td>https://www.derstandard.at/story/1259282847861...</td>\n      <td>2009-12-29 18:35:00</td>\n      <td>1</td>\n      <td>34</td>\n      <td>NaN</td>\n      <td>722</td>\n      <td>\"im vergleich dazu hat österreich noch enormen...</td>\n      <td>NaN</td>\n      <td>NaN</td>\n      <td>NaN</td>\n    </tr>\n    <tr>\n      <th>3</th>\n      <td>5</td>\n      <td>1</td>\n      <td>Spät, aber doch, kommt auch das neue Antikorru...</td>\n      <td>Korruptionsjäger für mehr Personal und Kompete...</td>\n      <td>https://www.derstandard.at/story/1259282847861...</td>\n      <td>2009-12-29 18:35:00</td>\n      <td>1</td>\n      <td>34</td>\n      <td>NaN</td>\n      <td>468</td>\n      <td>spät, aber doch, kommt auch das neue antikorru...</td>\n      <td>NaN</td>\n      <td>NaN</td>\n      <td>NaN</td>\n    </tr>\n    <tr>\n      <th>4</th>\n      <td>8</td>\n      <td>3</td>\n      <td>Wien - Der Verfassungsgerichtshof ist wieder k...</td>\n      <td>Verfassungsgerichtshof wieder komplett</td>\n      <td>https://www.derstandard.at/story/1259282555505...</td>\n      <td>2009-12-23 10:39:00</td>\n      <td>3</td>\n      <td>9</td>\n      <td>NaN</td>\n      <td>570</td>\n      <td>wien - der verfassungsgerichtshof ist wieder k...</td>\n      <td>NaN</td>\n      <td>NaN</td>\n      <td>NaN</td>\n    </tr>\n    <tr>\n      <th>...</th>\n      <td>...</td>\n      <td>...</td>\n      <td>...</td>\n      <td>...</td>\n      <td>...</td>\n      <td>...</td>\n      <td>...</td>\n      <td>...</td>\n      <td>...</td>\n      <td>...</td>\n      <td>...</td>\n      <td>...</td>\n      <td>...</td>\n      <td>...</td>\n    </tr>\n    <tr>\n      <th>38878</th>\n      <td>45024</td>\n      <td>4761</td>\n      <td>News in der Causa Craftbeer: Ich werde nun tat...</td>\n      <td>Bierladenbetreiber klagt Sigi Maurer nach Belä...</td>\n      <td>https://www.derstandard.at/story/2000082408236...</td>\n      <td>2018-06-28 08:51:00</td>\n      <td>4761</td>\n      <td>4</td>\n      <td>0</td>\n      <td>302</td>\n      <td>news in der causa craftbeer: ich werde nun tat...</td>\n      <td>no</td>\n      <td></td>\n      <td>0.0</td>\n    </tr>\n    <tr>\n      <th>38879</th>\n      <td>34818</td>\n      <td>3923</td>\n      <td>Die Liste der Attacken der ÖVP gegen die Justi...</td>\n      <td>Vizekanzler Kogler: \"Ein verurteilter Bundeska...</td>\n      <td>https://www.derstandard.at/story/2000127171425...</td>\n      <td>2021-06-05 12:18:00</td>\n      <td>3923</td>\n      <td>899</td>\n      <td>NaN</td>\n      <td>467</td>\n      <td>die liste der attacken der övp gegen die justi...</td>\n      <td>yes</td>\n      <td></td>\n      <td>1.0</td>\n    </tr>\n    <tr>\n      <th>38880</th>\n      <td>13366</td>\n      <td>1740</td>\n      <td>Öllinger erklärte dazu, statt sich schützend v...</td>\n      <td>Scharfe Kritik der Grünen an Schüssel</td>\n      <td>https://www.derstandard.at/story/410943/scharf...</td>\n      <td>2000-12-05 16:16:00</td>\n      <td>1740</td>\n      <td>NaN</td>\n      <td>NaN</td>\n      <td>286</td>\n      <td>öllinger erklärte dazu, statt sich schützend v...</td>\n      <td>yes</td>\n      <td></td>\n      <td>1.0</td>\n    </tr>\n    <tr>\n      <th>38881</th>\n      <td>13276</td>\n      <td>1719</td>\n      <td>Wien - Eine \"mangelnde Rechtskultur\" ortet der...</td>\n      <td>Präsident des Wiener Landesgerichts ortet \"man...</td>\n      <td>https://www.derstandard.at/story/419876/praesi...</td>\n      <td>2000-12-15 09:11:00</td>\n      <td>1719</td>\n      <td>NaN</td>\n      <td>NaN</td>\n      <td>756</td>\n      <td>wien - eine \"mangelnde rechtskultur\" ortet der...</td>\n      <td>yes</td>\n      <td></td>\n      <td>1.0</td>\n    </tr>\n    <tr>\n      <th>38882</th>\n      <td>2349</td>\n      <td>300</td>\n      <td>Es gelte natürlich die Unschuldsvermutung, so ...</td>\n      <td>SP-Rudas fordert Rücktritt Grafs</td>\n      <td>https://www.derstandard.at/story/1234507060782...</td>\n      <td>2009-02-13 22:25:00</td>\n      <td>300</td>\n      <td>96</td>\n      <td>NaN</td>\n      <td>349</td>\n      <td>es gelte natürlich die unschuldsvermutung, so ...</td>\n      <td>no</td>\n      <td></td>\n      <td>0.0</td>\n    </tr>\n  </tbody>\n</table>\n<p>38883 rows × 14 columns</p>\n</div>"
     },
     "execution_count": 2,
     "metadata": {},
     "output_type": "execute_result"
    }
   ],
   "source": [
    "import pyreadr\n",
    "\n",
    "imported = pyreadr.read_r('C:/Users/Jasmin/OneDrive - Universität Hamburg/Desktop/Dissertation/standard/data/articles_paragraphs_judiciary_annotated.rds')\n",
    "paragraphs_handcoded = imported[None]\n",
    "paragraphs_handcoded['article'] = paragraphs_handcoded['article'].astype(str)\n",
    "paragraphs_handcoded"
   ],
   "metadata": {
    "collapsed": false,
    "ExecuteTime": {
     "start_time": "2023-11-02T13:27:28.855466Z",
     "end_time": "2023-11-02T13:27:31.066426Z"
    }
   }
  },
  {
   "cell_type": "code",
   "execution_count": 3,
   "outputs": [
    {
     "data": {
      "text/plain": "       id_paragraph    id                                            article  \\\n38300         27612  3279  Damit dürften Entscheidungen eines von ihr gel...   \n38301         60669  6808  Antwort: Am Beginn ist die Aufklärung durch zw...   \n38302         32072  3716  Erfreut über die \"klaren Worte\" des OLG-Präsid...   \n38304         30250  3574  Der U-Ausschuss an sich hat viel Reformbedarf....   \n38305          6082   703  Wien - Der bisher geheime Antrag des Wiener St...   \n...             ...   ...                                                ...   \n38878         45024  4761  News in der Causa Craftbeer: Ich werde nun tat...   \n38879         34818  3923  Die Liste der Attacken der ÖVP gegen die Justi...   \n38880         13366  1740  Öllinger erklärte dazu, statt sich schützend v...   \n38881         13276  1719  Wien - Eine \"mangelnde Rechtskultur\" ortet der...   \n38882          2349   300  Es gelte natürlich die Unschuldsvermutung, so ...   \n\n                                                   title  \\\n38300  Steinhauser will Kommunikation mit Bandion-Orn...   \n38301  Wie die neue Regelung zur Sterbehilfe im Detai...   \n38302  OGH-Vizepräsidentin Marek verlässt Richtervere...   \n38304  Sieben Punkte, wie Österreichs Politik sofort ...   \n38305  Auslieferung Westenthalers auch wegen Bawag be...   \n...                                                  ...   \n38878  Bierladenbetreiber klagt Sigi Maurer nach Belä...   \n38879  Vizekanzler Kogler: \"Ein verurteilter Bundeska...   \n38880              Scharfe Kritik der Grünen an Schüssel   \n38881  Präsident des Wiener Landesgerichts ortet \"man...   \n38882                   SP-Rudas fordert Rücktritt Grafs   \n\n                                                   links                date  \\\n38300  https://www.derstandard.at/story/1293370410491... 2011-01-11 13:11:00   \n38301  https://www.derstandard.at/story/2000130685905... 2021-10-24 17:44:00   \n38302  https://www.derstandard.at/story/2000133510015... 2022-02-21 11:09:00   \n38304  https://www.derstandard.at/story/2000140383385... 2022-10-29 07:00:00   \n38305  https://www.derstandard.at/story/3023094/ausli... 2007-10-02 14:58:00   \n...                                                  ...                 ...   \n38878  https://www.derstandard.at/story/2000082408236... 2018-06-28 08:51:00   \n38879  https://www.derstandard.at/story/2000127171425... 2021-06-05 12:18:00   \n38880  https://www.derstandard.at/story/410943/scharf... 2000-12-05 16:16:00   \n38881  https://www.derstandard.at/story/419876/praesi... 2000-12-15 09:11:00   \n38882  https://www.derstandard.at/story/1234507060782... 2009-02-13 22:25:00   \n\n       article_id comments code  length_par  \\\n38300        3279       81  NaN         556   \n38301        6808      454  NaN         481   \n38302        3716      520  NaN         612   \n38304        3574      884  NaN         536   \n38305         703       48  NaN         567   \n...           ...      ...  ...         ...   \n38878        4761        4    0         302   \n38879        3923      899  NaN         467   \n38880        1740      NaN  NaN         286   \n38881        1719      NaN  NaN         756   \n38882         300       96  NaN         349   \n\n                                           article_small conflict sortout  \\\n38300  damit dürften entscheidungen eines von ihr gel...       no           \n38301  antwort: am beginn ist die aufklärung durch zw...       no           \n38302  erfreut über die \"klaren worte\" des olg-präsid...       no           \n38304  der u-ausschuss an sich hat viel reformbedarf....       no           \n38305  wien - der bisher geheime antrag des wiener st...       no           \n...                                                  ...      ...     ...   \n38878  news in der causa craftbeer: ich werde nun tat...       no           \n38879  die liste der attacken der övp gegen die justi...      yes           \n38880  öllinger erklärte dazu, statt sich schützend v...      yes           \n38881  wien - eine \"mangelnde rechtskultur\" ortet der...      yes           \n38882  es gelte natürlich die unschuldsvermutung, so ...       no           \n\n       coded  \n38300    0.0  \n38301    0.0  \n38302    0.0  \n38304    0.0  \n38305    0.0  \n...      ...  \n38878    0.0  \n38879    1.0  \n38880    1.0  \n38881    1.0  \n38882    0.0  \n\n[582 rows x 14 columns]",
      "text/html": "<div>\n<style scoped>\n    .dataframe tbody tr th:only-of-type {\n        vertical-align: middle;\n    }\n\n    .dataframe tbody tr th {\n        vertical-align: top;\n    }\n\n    .dataframe thead th {\n        text-align: right;\n    }\n</style>\n<table border=\"1\" class=\"dataframe\">\n  <thead>\n    <tr style=\"text-align: right;\">\n      <th></th>\n      <th>id_paragraph</th>\n      <th>id</th>\n      <th>article</th>\n      <th>title</th>\n      <th>links</th>\n      <th>date</th>\n      <th>article_id</th>\n      <th>comments</th>\n      <th>code</th>\n      <th>length_par</th>\n      <th>article_small</th>\n      <th>conflict</th>\n      <th>sortout</th>\n      <th>coded</th>\n    </tr>\n  </thead>\n  <tbody>\n    <tr>\n      <th>38300</th>\n      <td>27612</td>\n      <td>3279</td>\n      <td>Damit dürften Entscheidungen eines von ihr gel...</td>\n      <td>Steinhauser will Kommunikation mit Bandion-Orn...</td>\n      <td>https://www.derstandard.at/story/1293370410491...</td>\n      <td>2011-01-11 13:11:00</td>\n      <td>3279</td>\n      <td>81</td>\n      <td>NaN</td>\n      <td>556</td>\n      <td>damit dürften entscheidungen eines von ihr gel...</td>\n      <td>no</td>\n      <td></td>\n      <td>0.0</td>\n    </tr>\n    <tr>\n      <th>38301</th>\n      <td>60669</td>\n      <td>6808</td>\n      <td>Antwort: Am Beginn ist die Aufklärung durch zw...</td>\n      <td>Wie die neue Regelung zur Sterbehilfe im Detai...</td>\n      <td>https://www.derstandard.at/story/2000130685905...</td>\n      <td>2021-10-24 17:44:00</td>\n      <td>6808</td>\n      <td>454</td>\n      <td>NaN</td>\n      <td>481</td>\n      <td>antwort: am beginn ist die aufklärung durch zw...</td>\n      <td>no</td>\n      <td></td>\n      <td>0.0</td>\n    </tr>\n    <tr>\n      <th>38302</th>\n      <td>32072</td>\n      <td>3716</td>\n      <td>Erfreut über die \"klaren Worte\" des OLG-Präsid...</td>\n      <td>OGH-Vizepräsidentin Marek verlässt Richtervere...</td>\n      <td>https://www.derstandard.at/story/2000133510015...</td>\n      <td>2022-02-21 11:09:00</td>\n      <td>3716</td>\n      <td>520</td>\n      <td>NaN</td>\n      <td>612</td>\n      <td>erfreut über die \"klaren worte\" des olg-präsid...</td>\n      <td>no</td>\n      <td></td>\n      <td>0.0</td>\n    </tr>\n    <tr>\n      <th>38304</th>\n      <td>30250</td>\n      <td>3574</td>\n      <td>Der U-Ausschuss an sich hat viel Reformbedarf....</td>\n      <td>Sieben Punkte, wie Österreichs Politik sofort ...</td>\n      <td>https://www.derstandard.at/story/2000140383385...</td>\n      <td>2022-10-29 07:00:00</td>\n      <td>3574</td>\n      <td>884</td>\n      <td>NaN</td>\n      <td>536</td>\n      <td>der u-ausschuss an sich hat viel reformbedarf....</td>\n      <td>no</td>\n      <td></td>\n      <td>0.0</td>\n    </tr>\n    <tr>\n      <th>38305</th>\n      <td>6082</td>\n      <td>703</td>\n      <td>Wien - Der bisher geheime Antrag des Wiener St...</td>\n      <td>Auslieferung Westenthalers auch wegen Bawag be...</td>\n      <td>https://www.derstandard.at/story/3023094/ausli...</td>\n      <td>2007-10-02 14:58:00</td>\n      <td>703</td>\n      <td>48</td>\n      <td>NaN</td>\n      <td>567</td>\n      <td>wien - der bisher geheime antrag des wiener st...</td>\n      <td>no</td>\n      <td></td>\n      <td>0.0</td>\n    </tr>\n    <tr>\n      <th>...</th>\n      <td>...</td>\n      <td>...</td>\n      <td>...</td>\n      <td>...</td>\n      <td>...</td>\n      <td>...</td>\n      <td>...</td>\n      <td>...</td>\n      <td>...</td>\n      <td>...</td>\n      <td>...</td>\n      <td>...</td>\n      <td>...</td>\n      <td>...</td>\n    </tr>\n    <tr>\n      <th>38878</th>\n      <td>45024</td>\n      <td>4761</td>\n      <td>News in der Causa Craftbeer: Ich werde nun tat...</td>\n      <td>Bierladenbetreiber klagt Sigi Maurer nach Belä...</td>\n      <td>https://www.derstandard.at/story/2000082408236...</td>\n      <td>2018-06-28 08:51:00</td>\n      <td>4761</td>\n      <td>4</td>\n      <td>0</td>\n      <td>302</td>\n      <td>news in der causa craftbeer: ich werde nun tat...</td>\n      <td>no</td>\n      <td></td>\n      <td>0.0</td>\n    </tr>\n    <tr>\n      <th>38879</th>\n      <td>34818</td>\n      <td>3923</td>\n      <td>Die Liste der Attacken der ÖVP gegen die Justi...</td>\n      <td>Vizekanzler Kogler: \"Ein verurteilter Bundeska...</td>\n      <td>https://www.derstandard.at/story/2000127171425...</td>\n      <td>2021-06-05 12:18:00</td>\n      <td>3923</td>\n      <td>899</td>\n      <td>NaN</td>\n      <td>467</td>\n      <td>die liste der attacken der övp gegen die justi...</td>\n      <td>yes</td>\n      <td></td>\n      <td>1.0</td>\n    </tr>\n    <tr>\n      <th>38880</th>\n      <td>13366</td>\n      <td>1740</td>\n      <td>Öllinger erklärte dazu, statt sich schützend v...</td>\n      <td>Scharfe Kritik der Grünen an Schüssel</td>\n      <td>https://www.derstandard.at/story/410943/scharf...</td>\n      <td>2000-12-05 16:16:00</td>\n      <td>1740</td>\n      <td>NaN</td>\n      <td>NaN</td>\n      <td>286</td>\n      <td>öllinger erklärte dazu, statt sich schützend v...</td>\n      <td>yes</td>\n      <td></td>\n      <td>1.0</td>\n    </tr>\n    <tr>\n      <th>38881</th>\n      <td>13276</td>\n      <td>1719</td>\n      <td>Wien - Eine \"mangelnde Rechtskultur\" ortet der...</td>\n      <td>Präsident des Wiener Landesgerichts ortet \"man...</td>\n      <td>https://www.derstandard.at/story/419876/praesi...</td>\n      <td>2000-12-15 09:11:00</td>\n      <td>1719</td>\n      <td>NaN</td>\n      <td>NaN</td>\n      <td>756</td>\n      <td>wien - eine \"mangelnde rechtskultur\" ortet der...</td>\n      <td>yes</td>\n      <td></td>\n      <td>1.0</td>\n    </tr>\n    <tr>\n      <th>38882</th>\n      <td>2349</td>\n      <td>300</td>\n      <td>Es gelte natürlich die Unschuldsvermutung, so ...</td>\n      <td>SP-Rudas fordert Rücktritt Grafs</td>\n      <td>https://www.derstandard.at/story/1234507060782...</td>\n      <td>2009-02-13 22:25:00</td>\n      <td>300</td>\n      <td>96</td>\n      <td>NaN</td>\n      <td>349</td>\n      <td>es gelte natürlich die unschuldsvermutung, so ...</td>\n      <td>no</td>\n      <td></td>\n      <td>0.0</td>\n    </tr>\n  </tbody>\n</table>\n<p>582 rows × 14 columns</p>\n</div>"
     },
     "execution_count": 3,
     "metadata": {},
     "output_type": "execute_result"
    }
   ],
   "source": [
    "import re\n",
    "import pandas as pd\n",
    "\n",
    "df_labelled = paragraphs_handcoded.dropna(subset=['coded'])\n",
    "df_unlabelled = paragraphs_handcoded[paragraphs_handcoded['coded'].isnull()]\n",
    "\n",
    "df_labelled"
   ],
   "metadata": {
    "collapsed": false,
    "ExecuteTime": {
     "start_time": "2023-11-02T13:27:31.053960Z",
     "end_time": "2023-11-02T13:27:31.339321Z"
    }
   }
  },
  {
   "cell_type": "code",
   "execution_count": 4,
   "outputs": [
    {
     "data": {
      "text/plain": "True"
     },
     "execution_count": 4,
     "metadata": {},
     "output_type": "execute_result"
    }
   ],
   "source": [
    "df_train = df_labelled.sample(n = round(len(df_labelled) / 5 * 4),\n",
    "                              random_state = 1)\n",
    "# anti-join for df_test\n",
    "df_test = df_labelled.merge(df_train, how='left', indicator=True).query('_merge == \"left_only\"').drop(columns=['_merge'])\n",
    "\n",
    "len(df_test) + len(df_train) == 582"
   ],
   "metadata": {
    "collapsed": false,
    "ExecuteTime": {
     "start_time": "2023-11-02T13:27:31.183573Z",
     "end_time": "2023-11-02T13:27:31.427283Z"
    }
   }
  },
  {
   "cell_type": "code",
   "execution_count": 5,
   "outputs": [],
   "source": [
    "model_name = \"bert-base-german-cased\""
   ],
   "metadata": {
    "collapsed": false,
    "ExecuteTime": {
     "start_time": "2023-11-02T13:27:31.272207Z",
     "end_time": "2023-11-02T13:27:31.567369Z"
    }
   }
  },
  {
   "cell_type": "code",
   "execution_count": 6,
   "outputs": [],
   "source": [
    "from transformers import AutoTokenizer, AutoModelForMaskedLM\n",
    "\n",
    "tokenizer = AutoTokenizer.from_pretrained(model_name)\n",
    "\n",
    "# Tokenize texts\n",
    "df_test['tokens'] = df_test['article'].apply(tokenizer)\n",
    "df_train['tokens'] = df_test['article'].apply(tokenizer)"
   ],
   "metadata": {
    "collapsed": false,
    "ExecuteTime": {
     "start_time": "2023-11-02T13:27:31.300338Z",
     "end_time": "2023-11-02T13:27:36.649179Z"
    }
   }
  },
  {
   "cell_type": "code",
   "execution_count": 7,
   "outputs": [
    {
     "data": {
      "text/plain": "True"
     },
     "execution_count": 7,
     "metadata": {},
     "output_type": "execute_result"
    }
   ],
   "source": [
    "df_train = df_labelled.sample(n = round(len(df_labelled) / 5 * 4),\n",
    "                            random_state = 1)\n",
    "# anti-join for df_test\n",
    "df_test = df_labelled.merge(df_train, how='left', indicator=True).query('_merge == \"left_only\"').drop(columns=['_merge'])\n",
    "\n",
    "len(df_test) + len(df_train) == 582"
   ],
   "metadata": {
    "collapsed": false,
    "ExecuteTime": {
     "start_time": "2023-11-02T13:27:36.658515Z",
     "end_time": "2023-11-02T13:27:36.731433Z"
    }
   }
  },
  {
   "cell_type": "code",
   "execution_count": 8,
   "outputs": [
    {
     "name": "stderr",
     "output_type": "stream",
     "text": [
      "Some weights of the model checkpoint at bert-base-german-cased were not used when initializing BertForMaskedLM: ['cls.seq_relationship.bias', 'cls.seq_relationship.weight']\n",
      "- This IS expected if you are initializing BertForMaskedLM from the checkpoint of a model trained on another task or with another architecture (e.g. initializing a BertForSequenceClassification model from a BertForPreTraining model).\n",
      "- This IS NOT expected if you are initializing BertForMaskedLM from the checkpoint of a model that you expect to be exactly identical (initializing a BertForSequenceClassification model from a BertForSequenceClassification model).\n"
     ]
    }
   ],
   "source": [
    "model = AutoModelForMaskedLM.from_pretrained(model_name, num_labels=1)"
   ],
   "metadata": {
    "collapsed": false,
    "ExecuteTime": {
     "start_time": "2023-11-02T13:27:36.737004Z",
     "end_time": "2023-11-02T13:28:00.138912Z"
    }
   }
  },
  {
   "cell_type": "code",
   "execution_count": 9,
   "outputs": [],
   "source": [
    "from datasets import load_metric # providing us with a diverse set of metrics for evaluation\n",
    "import numpy as np\n",
    "import pyreadr"
   ],
   "metadata": {
    "collapsed": false,
    "ExecuteTime": {
     "start_time": "2023-11-02T13:28:00.143846Z",
     "end_time": "2023-11-02T13:28:01.987003Z"
    }
   }
  },
  {
   "cell_type": "code",
   "execution_count": 10,
   "outputs": [],
   "source": [
    "from datasets import Dataset\n",
    "from transformers import AutoTokenizer, AutoModelForMaskedLM\n",
    "\n",
    "tokenizer = AutoTokenizer.from_pretrained(model_name)\n",
    "\n",
    "# Specify the columns you want to include in the dataset\n",
    "# Specify the columns you want to include in the dataset\n",
    "columns_of_interest = {\n",
    "    'text': df_train['article'],\n",
    "    'label': df_train['coded'],\n",
    "    'id_paragraph': df_train['id_paragraph']\n",
    "}\n",
    "\n",
    "# Create a Dataset object with the specified columns\n",
    "dataset_train = Dataset.from_dict(columns_of_interest)\n",
    "\n",
    "# Specify the columns you want to include in the dataset\n",
    "columns_of_interest = {\n",
    "    'text': df_test['article'],\n",
    "    'label': df_test['coded'],\n",
    "    'id_paragraph': df_test['id_paragraph']\n",
    "}\n",
    "\n",
    "# Create a Dataset object with the specified columns\n",
    "dataset_test = Dataset.from_dict(columns_of_interest)"
   ],
   "metadata": {
    "collapsed": false,
    "ExecuteTime": {
     "start_time": "2023-11-02T13:28:01.991091Z",
     "end_time": "2023-11-02T13:28:02.346153Z"
    }
   }
  },
  {
   "cell_type": "code",
   "execution_count": 11,
   "outputs": [
    {
     "data": {
      "text/plain": "Map:   0%|          | 0/466 [00:00<?, ? examples/s]",
      "application/vnd.jupyter.widget-view+json": {
       "version_major": 2,
       "version_minor": 0,
       "model_id": "1cd36d7da7e14e5698262bf4460c277a"
      }
     },
     "metadata": {},
     "output_type": "display_data"
    },
    {
     "data": {
      "text/plain": "Map:   0%|          | 0/116 [00:00<?, ? examples/s]",
      "application/vnd.jupyter.widget-view+json": {
       "version_major": 2,
       "version_minor": 0,
       "model_id": "9d3d4fdd367c4025b9764b2e5d8be80a"
      }
     },
     "metadata": {},
     "output_type": "display_data"
    },
    {
     "data": {
      "text/plain": "Dataset({\n    features: ['text', 'label', 'id_paragraph', 'input_ids', 'token_type_ids', 'attention_mask'],\n    num_rows: 466\n})"
     },
     "execution_count": 11,
     "metadata": {},
     "output_type": "execute_result"
    }
   ],
   "source": [
    "def tokenize_function(examples):\n",
    "    return tokenizer(examples['text'], padding='max_length', truncation=True)\n",
    "\n",
    "dataset_tok_train = dataset_train.map(tokenize_function, batched=True)\n",
    "dataset_tok_test = dataset_test.map(tokenize_function, batched=True)\n",
    "dataset_tok_train"
   ],
   "metadata": {
    "collapsed": false,
    "ExecuteTime": {
     "start_time": "2023-11-02T13:28:02.346153Z",
     "end_time": "2023-11-02T13:28:03.242686Z"
    }
   }
  },
  {
   "cell_type": "code",
   "execution_count": 12,
   "outputs": [
    {
     "name": "stderr",
     "output_type": "stream",
     "text": [
      "Some weights of the model checkpoint at bert-base-german-cased were not used when initializing BertForMaskedLM: ['cls.seq_relationship.bias', 'cls.seq_relationship.weight']\n",
      "- This IS expected if you are initializing BertForMaskedLM from the checkpoint of a model trained on another task or with another architecture (e.g. initializing a BertForSequenceClassification model from a BertForPreTraining model).\n",
      "- This IS NOT expected if you are initializing BertForMaskedLM from the checkpoint of a model that you expect to be exactly identical (initializing a BertForSequenceClassification model from a BertForSequenceClassification model).\n"
     ]
    }
   ],
   "source": [
    "model = AutoModelForMaskedLM.from_pretrained(model_name, num_labels=2)"
   ],
   "metadata": {
    "collapsed": false,
    "ExecuteTime": {
     "start_time": "2023-11-02T13:28:03.253525Z",
     "end_time": "2023-11-02T13:28:06.628539Z"
    }
   }
  },
  {
   "cell_type": "code",
   "execution_count": 13,
   "outputs": [],
   "source": [
    "from datasets import load_metric # providing us with a diverse set of metrics for evaluation\n",
    "import numpy as np"
   ],
   "metadata": {
    "collapsed": false,
    "ExecuteTime": {
     "start_time": "2023-11-02T13:28:06.636893Z",
     "end_time": "2023-11-02T13:28:06.645388Z"
    }
   }
  },
  {
   "cell_type": "code",
   "execution_count": 14,
   "outputs": [],
   "source": [
    "from transformers import TrainingArguments\n",
    "\n",
    "training_args = TrainingArguments(\n",
    "    \"transformer\",                  # output folder\n",
    "    num_train_epochs = 2,            # number of iterations over the whole dataset\n",
    "    logging_steps=100,               # number of steps to calculate and print out the current performance\n",
    "    per_device_train_batch_size=64\n",
    ")"
   ],
   "metadata": {
    "collapsed": false,
    "ExecuteTime": {
     "start_time": "2023-11-02T13:28:06.658114Z",
     "end_time": "2023-11-02T13:28:06.785077Z"
    }
   }
  },
  {
   "cell_type": "code",
   "execution_count": 15,
   "outputs": [],
   "source": [
    "from transformers import Trainer\n",
    "\n",
    "trainer = Trainer(\n",
    "    model=model,\n",
    "    args=training_args,\n",
    "    train_dataset=dataset_tok_train,\n",
    "    eval_dataset=dataset_tok_test\n",
    ")"
   ],
   "metadata": {
    "collapsed": false,
    "ExecuteTime": {
     "start_time": "2023-11-02T13:28:06.782341Z",
     "end_time": "2023-11-02T13:28:09.634058Z"
    }
   }
  },
  {
   "cell_type": "code",
   "execution_count": 16,
   "outputs": [],
   "source": [
    "def compute_metrics(eval_pred):\n",
    "    logits, labels = eval_pred\n",
    "    predictions = np.argmax(logits, axis=-1) # get the label with the highest probability\n",
    "\n",
    "    return metric.compute(predictions=predictions, references=labels)"
   ],
   "metadata": {
    "collapsed": false,
    "ExecuteTime": {
     "start_time": "2023-11-02T13:28:09.643030Z",
     "end_time": "2023-11-02T13:28:09.652981Z"
    }
   }
  },
  {
   "cell_type": "code",
   "execution_count": 17,
   "outputs": [],
   "source": [
    "class CustomTrainer(Trainer):\n",
    "    def compute_loss(self, model, inputs, return_outputs=False):\n",
    "        outputs = model(\n",
    "            input_ids=inputs['input_ids'],\n",
    "            attention_mask=inputs['attention_mask'],\n",
    "            token_type_ids=inputs['token_type_ids']\n",
    "        )\n",
    "        loss = torch.nn.BCEWithLogitsLoss()(outputs['logits'].float(), inputs['labels'].float())\n",
    "        return (loss, outputs) if return_outputs else loss"
   ],
   "metadata": {
    "collapsed": false,
    "ExecuteTime": {
     "start_time": "2023-11-02T13:28:09.653478Z",
     "end_time": "2023-11-02T13:28:09.694883Z"
    }
   }
  },
  {
   "cell_type": "code",
   "execution_count": null,
   "outputs": [
    {
     "name": "stderr",
     "output_type": "stream",
     "text": [
      "C:\\Users\\Jasmin\\anaconda3\\lib\\site-packages\\transformers\\optimization.py:391: FutureWarning: This implementation of AdamW is deprecated and will be removed in a future version. Use the PyTorch implementation torch.optim.AdamW instead, or set `no_deprecation_warning=True` to disable this warning\n",
      "  warnings.warn(\n"
     ]
    }
   ],
   "source": [
    "import torch\n",
    "\n",
    "trainer.train()"
   ],
   "metadata": {
    "collapsed": false,
    "pycharm": {
     "is_executing": true
    }
   }
  },
  {
   "cell_type": "code",
   "execution_count": null,
   "outputs": [],
   "source": [
    "from modAL.models import ActiveLearner\n",
    "from modAL.uncertainty import uncertainty_sampling\n",
    "\n",
    "lr = LogisticRegression()\n",
    "\n",
    "# initializing the learner\n",
    "learner = ActiveLearner(\n",
    "    estimator=lr,\n",
    "    X_training=X_train_cv,\n",
    "    y_training=y_train\n",
    ")\n",
    "\n",
    "# query for label - it only returns one uncertain case so far, that's not good\n",
    "query_idx, query_inst = learner.query(unlabelled_cv)\n",
    "\n",
    "# supply new label for queried observation\n",
    "#learner.teach(X_train_tfidf[query_idx], y_train[query_idx])"
   ],
   "metadata": {
    "collapsed": false,
    "pycharm": {
     "is_executing": true
    }
   }
  }
 ],
 "metadata": {
  "kernelspec": {
   "display_name": "Python 3",
   "language": "python",
   "name": "python3"
  },
  "language_info": {
   "codemirror_mode": {
    "name": "ipython",
    "version": 2
   },
   "file_extension": ".py",
   "mimetype": "text/x-python",
   "name": "python",
   "nbconvert_exporter": "python",
   "pygments_lexer": "ipython2",
   "version": "2.7.6"
  }
 },
 "nbformat": 4,
 "nbformat_minor": 0
}
